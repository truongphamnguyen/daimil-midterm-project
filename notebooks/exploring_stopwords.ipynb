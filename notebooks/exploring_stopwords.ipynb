{
 "cells": [
  {
   "cell_type": "code",
   "execution_count": 1,
   "metadata": {},
   "outputs": [],
   "source": [
    "import pandas as pd\n",
    "from sklearn.feature_extraction.text import ENGLISH_STOP_WORDS"
   ]
  },
  {
   "cell_type": "code",
   "execution_count": 2,
   "metadata": {},
   "outputs": [
    {
     "name": "stdout",
     "output_type": "stream",
     "text": [
      "frozenset({'go', 'after', 'only', 'still', 'he', 'among', 'and', 'his', 'keep', 'up', 'across', 'himself', 're', 'out', 'indeed', 'herein', 'none', 'find', 'being', 'ten', 'behind', 'many', 'made', 'upon', 'becomes', 'that', 'until', 'next', 'than', 'most', 'over', 'few', 'thereafter', 'do', 'such', 'again', 'there', 'except', 'eight', 'besides', 'every', 'everyone', 'as', 'all', 'throughout', 'yourselves', 'hereafter', 'rather', 'third', 'our', 'itself', 'fill', 'please', 'yourself', 'of', 'nothing', 'sometimes', 'otherwise', 'serious', 'afterwards', 'although', 'beyond', 'hence', 'somehow', 'thereupon', 'where', 'less', 'part', 'not', 'name', 'hereupon', 'front', 'yours', 'both', 'namely', 'five', 'therein', 'ltd', 'so', 'nobody', 'sixty', 'give', 'whereby', 'can', 'noone', 'thru', 'however', 'see', 'they', 'themselves', 'towards', 'now', 'between', 'whereupon', 'own', 'etc', 'become', 'further', 'whenever', 'else', 'is', 'here', 'may', 'latterly', 'meanwhile', 'also', 'two', 'whereafter', 'to', 'beside', 'much', 'even', 'already', 'latter', 'nine', 'formerly', 'whoever', 'ever', 'twelve', 'without', 'whereas', 'might', 'has', 'onto', 'i', 'amongst', 'twenty', 'in', 'seeming', 'we', 'you', 'hers', 'no', 'into', 'were', 'found', 'them', 'enough', 'anywhere', 'along', 'everywhere', 'one', 'side', 'within', 'six', 'been', 'while', 'forty', 'wherever', 'from', 'your', 'system', 'any', 'sometime', 'hundred', 'becoming', 'what', 'if', 'move', 'three', 'several', 'who', 'often', 'beforehand', 'describe', 'show', 'thus', 'us', 'cannot', 'ours', 'thereby', 'mill', 'off', 'take', 'former', 'thick', 'four', 'cry', 'bill', 'due', 'never', 'whom', 'well', 'done', 'under', 'always', 'another', 'during', 'had', 'yet', 'neither', 'anyhow', 'whither', 'eg', 'since', 'couldnt', 'hereby', 'by', 'fifty', 'seem', 'co', 'with', 'fire', 'get', 'full', 'but', 'ie', 'myself', 'detail', 'therefore', 'became', 'toward', 'back', 'somewhere', 'am', 'empty', 'something', 'bottom', 'moreover', 'which', 'have', 'through', 'nor', 'seemed', 'wherein', 'mine', 'via', 'eleven', 'will', 'whole', 'alone', 'someone', 'him', 'would', 'around', 'least', 'this', 'herself', 'though', 'should', 'almost', 'or', 'those', 'same', 'how', 'de', 'thin', 'everything', 'against', 'top', 'together', 'whether', 'call', 'amoungst', 'for', 'was', 'above', 'she', 'nowhere', 'then', 'ourselves', 'whence', 'on', 'her', 'other', 'before', 'when', 'fifteen', 'first', 'must', 'perhaps', 'interest', 'some', 'per', 'their', 'at', 'elsewhere', 'nevertheless', 'inc', 'anything', 'others', 'seems', 'me', 'put', 'anyone', 'its', 'each', 'be', 'below', 'it', 'anyway', 'mostly', 'hasnt', 'too', 'my', 'about', 'sincere', 'whose', 'more', 'un', 'down', 'once', 'con', 'amount', 'are', 'an', 'a', 'why', 'because', 'last', 'whatever', 'very', 'thence', 'cant', 'could', 'these', 'either', 'the'})\n"
     ]
    }
   ],
   "source": [
    "stopwords = ENGLISH_STOP_WORDS\n",
    "print(stopwords)"
   ]
  }
 ],
 "metadata": {
  "kernelspec": {
   "display_name": "Python 3.9.12 ('base')",
   "language": "python",
   "name": "python3"
  },
  "language_info": {
   "codemirror_mode": {
    "name": "ipython",
    "version": 3
   },
   "file_extension": ".py",
   "mimetype": "text/x-python",
   "name": "python",
   "nbconvert_exporter": "python",
   "pygments_lexer": "ipython3",
   "version": "3.9.12"
  },
  "orig_nbformat": 4,
  "vscode": {
   "interpreter": {
    "hash": "40d3a090f54c6569ab1632332b64b2c03c39dcf918b08424e98f38b5ae0af88f"
   }
  }
 },
 "nbformat": 4,
 "nbformat_minor": 2
}
