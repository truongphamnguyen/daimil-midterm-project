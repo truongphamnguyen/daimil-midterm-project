{
 "cells": [
  {
   "cell_type": "markdown",
   "metadata": {},
   "source": []
  },
  {
   "cell_type": "code",
   "execution_count": 23,
   "metadata": {},
   "outputs": [],
   "source": [
    "import pandas as pd\n",
    "import plotly.express as px\n",
    "import numpy as np"
   ]
  },
  {
   "cell_type": "code",
   "execution_count": 3,
   "metadata": {},
   "outputs": [],
   "source": [
    "# Read and save dataset into \n",
    "cupid_df = pd.read_csv(\"../data/okcupid_profiles.csv\")"
   ]
  },
  {
   "cell_type": "code",
   "execution_count": 4,
   "metadata": {},
   "outputs": [
    {
     "data": {
      "text/html": [
       "<div>\n",
       "<style scoped>\n",
       "    .dataframe tbody tr th:only-of-type {\n",
       "        vertical-align: middle;\n",
       "    }\n",
       "\n",
       "    .dataframe tbody tr th {\n",
       "        vertical-align: top;\n",
       "    }\n",
       "\n",
       "    .dataframe thead th {\n",
       "        text-align: right;\n",
       "    }\n",
       "</style>\n",
       "<table border=\"1\" class=\"dataframe\">\n",
       "  <thead>\n",
       "    <tr style=\"text-align: right;\">\n",
       "      <th></th>\n",
       "      <th>age</th>\n",
       "      <th>status</th>\n",
       "      <th>sex</th>\n",
       "      <th>orientation</th>\n",
       "      <th>body_type</th>\n",
       "      <th>diet</th>\n",
       "      <th>drinks</th>\n",
       "      <th>drugs</th>\n",
       "      <th>education</th>\n",
       "      <th>ethnicity</th>\n",
       "      <th>...</th>\n",
       "      <th>essay0</th>\n",
       "      <th>essay1</th>\n",
       "      <th>essay2</th>\n",
       "      <th>essay3</th>\n",
       "      <th>essay4</th>\n",
       "      <th>essay5</th>\n",
       "      <th>essay6</th>\n",
       "      <th>essay7</th>\n",
       "      <th>essay8</th>\n",
       "      <th>essay9</th>\n",
       "    </tr>\n",
       "  </thead>\n",
       "  <tbody>\n",
       "    <tr>\n",
       "      <th>46339</th>\n",
       "      <td>35</td>\n",
       "      <td>available</td>\n",
       "      <td>m</td>\n",
       "      <td>bisexual</td>\n",
       "      <td>average</td>\n",
       "      <td>NaN</td>\n",
       "      <td>rarely</td>\n",
       "      <td>never</td>\n",
       "      <td>graduated from college/university</td>\n",
       "      <td>NaN</td>\n",
       "      <td>...</td>\n",
       "      <td>i gave up writing years ago .. it scares the s...</td>\n",
       "      <td>i lost something a number of years ago .. didn...</td>\n",
       "      <td>i'm not sure i can depend on me anymore .. i r...</td>\n",
       "      <td>are usually wrong.</td>\n",
       "      <td>(e) all of the above.</td>\n",
       "      <td>have already been taken from me  which makes t...</td>\n",
       "      <td>the visage outlined on this page is not what i...</td>\n",
       "      <td>temporally proximal to both thursday and saturday</td>\n",
       "      <td>this is a test ..  chances are, given the empi...</td>\n",
       "      <td>you have read my entire profile .. and you are...</td>\n",
       "    </tr>\n",
       "    <tr>\n",
       "      <th>15654</th>\n",
       "      <td>39</td>\n",
       "      <td>single</td>\n",
       "      <td>f</td>\n",
       "      <td>straight</td>\n",
       "      <td>a little extra</td>\n",
       "      <td>strictly vegetarian</td>\n",
       "      <td>socially</td>\n",
       "      <td>never</td>\n",
       "      <td>graduated from college/university</td>\n",
       "      <td>hispanic / latin</td>\n",
       "      <td>...</td>\n",
       "      <td>90% heroine 3% damsel in distress 7% devil in ...</td>\n",
       "      <td>i am artistic, creative, easy-going, humorous,...</td>\n",
       "      <td>spending time on things that make my my life b...</td>\n",
       "      <td>women always compliment my shoes, clothes &amp; ha...</td>\n",
       "      <td>she reads! margret atwood, chuck palahniuk, wi...</td>\n",
       "      <td>1. dogs 2. tabasco sauce 3. lipstick 4. intern...</td>\n",
       "      <td>making more money while doing less work how i ...</td>\n",
       "      <td>i like gallery openings and dinner with a tabl...</td>\n",
       "      <td>no money, man, can win my love. it's sweetness...</td>\n",
       "      <td>* you have never found yourself naked in publi...</td>\n",
       "    </tr>\n",
       "    <tr>\n",
       "      <th>40489</th>\n",
       "      <td>29</td>\n",
       "      <td>single</td>\n",
       "      <td>m</td>\n",
       "      <td>straight</td>\n",
       "      <td>fit</td>\n",
       "      <td>anything</td>\n",
       "      <td>socially</td>\n",
       "      <td>sometimes</td>\n",
       "      <td>graduated from college/university</td>\n",
       "      <td>asian</td>\n",
       "      <td>...</td>\n",
       "      <td>i was born and raised in hawaii, and moved to ...</td>\n",
       "      <td>currently, i am working with a local accountin...</td>\n",
       "      <td>finishing everyone's leftovers at the dinner t...</td>\n",
       "      <td>how friendly i am.</td>\n",
       "      <td>books: anything by malcolm gladwell, random bu...</td>\n",
       "      <td>1. family and friends 2. good food 3. running ...</td>\n",
       "      <td>the future.</td>\n",
       "      <td>hanging out with friends over a good meal and ...</td>\n",
       "      <td>NaN</td>\n",
       "      <td>NaN</td>\n",
       "    </tr>\n",
       "  </tbody>\n",
       "</table>\n",
       "<p>3 rows × 31 columns</p>\n",
       "</div>"
      ],
      "text/plain": [
       "       age     status sex orientation       body_type                 diet  \\\n",
       "46339   35  available   m    bisexual         average                  NaN   \n",
       "15654   39     single   f    straight  a little extra  strictly vegetarian   \n",
       "40489   29     single   m    straight             fit             anything   \n",
       "\n",
       "         drinks      drugs                          education  \\\n",
       "46339    rarely      never  graduated from college/university   \n",
       "15654  socially      never  graduated from college/university   \n",
       "40489  socially  sometimes  graduated from college/university   \n",
       "\n",
       "              ethnicity  ...  \\\n",
       "46339               NaN  ...   \n",
       "15654  hispanic / latin  ...   \n",
       "40489             asian  ...   \n",
       "\n",
       "                                                  essay0  \\\n",
       "46339  i gave up writing years ago .. it scares the s...   \n",
       "15654  90% heroine 3% damsel in distress 7% devil in ...   \n",
       "40489  i was born and raised in hawaii, and moved to ...   \n",
       "\n",
       "                                                  essay1  \\\n",
       "46339  i lost something a number of years ago .. didn...   \n",
       "15654  i am artistic, creative, easy-going, humorous,...   \n",
       "40489  currently, i am working with a local accountin...   \n",
       "\n",
       "                                                  essay2  \\\n",
       "46339  i'm not sure i can depend on me anymore .. i r...   \n",
       "15654  spending time on things that make my my life b...   \n",
       "40489  finishing everyone's leftovers at the dinner t...   \n",
       "\n",
       "                                                  essay3  \\\n",
       "46339                                 are usually wrong.   \n",
       "15654  women always compliment my shoes, clothes & ha...   \n",
       "40489                                 how friendly i am.   \n",
       "\n",
       "                                                  essay4  \\\n",
       "46339                              (e) all of the above.   \n",
       "15654  she reads! margret atwood, chuck palahniuk, wi...   \n",
       "40489  books: anything by malcolm gladwell, random bu...   \n",
       "\n",
       "                                                  essay5  \\\n",
       "46339  have already been taken from me  which makes t...   \n",
       "15654  1. dogs 2. tabasco sauce 3. lipstick 4. intern...   \n",
       "40489  1. family and friends 2. good food 3. running ...   \n",
       "\n",
       "                                                  essay6  \\\n",
       "46339  the visage outlined on this page is not what i...   \n",
       "15654  making more money while doing less work how i ...   \n",
       "40489                                        the future.   \n",
       "\n",
       "                                                  essay7  \\\n",
       "46339  temporally proximal to both thursday and saturday   \n",
       "15654  i like gallery openings and dinner with a tabl...   \n",
       "40489  hanging out with friends over a good meal and ...   \n",
       "\n",
       "                                                  essay8  \\\n",
       "46339  this is a test ..  chances are, given the empi...   \n",
       "15654  no money, man, can win my love. it's sweetness...   \n",
       "40489                                                NaN   \n",
       "\n",
       "                                                  essay9  \n",
       "46339  you have read my entire profile .. and you are...  \n",
       "15654  * you have never found yourself naked in publi...  \n",
       "40489                                                NaN  \n",
       "\n",
       "[3 rows x 31 columns]"
      ]
     },
     "execution_count": 4,
     "metadata": {},
     "output_type": "execute_result"
    }
   ],
   "source": [
    "# Sampling the rows\n",
    "cupid_df.sample(3)"
   ]
  },
  {
   "cell_type": "code",
   "execution_count": 5,
   "metadata": {},
   "outputs": [
    {
     "name": "stdout",
     "output_type": "stream",
     "text": [
      "<class 'pandas.core.frame.DataFrame'>\n",
      "RangeIndex: 59946 entries, 0 to 59945\n",
      "Data columns (total 31 columns):\n",
      " #   Column       Non-Null Count  Dtype  \n",
      "---  ------       --------------  -----  \n",
      " 0   age          59946 non-null  int64  \n",
      " 1   status       59946 non-null  object \n",
      " 2   sex          59946 non-null  object \n",
      " 3   orientation  59946 non-null  object \n",
      " 4   body_type    54650 non-null  object \n",
      " 5   diet         35551 non-null  object \n",
      " 6   drinks       56961 non-null  object \n",
      " 7   drugs        45866 non-null  object \n",
      " 8   education    53318 non-null  object \n",
      " 9   ethnicity    54266 non-null  object \n",
      " 10  height       59943 non-null  float64\n",
      " 11  income       59946 non-null  int64  \n",
      " 12  job          51748 non-null  object \n",
      " 13  last_online  59946 non-null  object \n",
      " 14  location     59946 non-null  object \n",
      " 15  offspring    24385 non-null  object \n",
      " 16  pets         40025 non-null  object \n",
      " 17  religion     39720 non-null  object \n",
      " 18  sign         48890 non-null  object \n",
      " 19  smokes       54434 non-null  object \n",
      " 20  speaks       59896 non-null  object \n",
      " 21  essay0       54458 non-null  object \n",
      " 22  essay1       52374 non-null  object \n",
      " 23  essay2       50308 non-null  object \n",
      " 24  essay3       48470 non-null  object \n",
      " 25  essay4       49409 non-null  object \n",
      " 26  essay5       49096 non-null  object \n",
      " 27  essay6       46175 non-null  object \n",
      " 28  essay7       47495 non-null  object \n",
      " 29  essay8       40721 non-null  object \n",
      " 30  essay9       47343 non-null  object \n",
      "dtypes: float64(1), int64(2), object(28)\n",
      "memory usage: 14.2+ MB\n"
     ]
    }
   ],
   "source": [
    "# Check dataset data types\n",
    "cupid_df.info()"
   ]
  },
  {
   "cell_type": "code",
   "execution_count": 6,
   "metadata": {},
   "outputs": [
    {
     "data": {
      "text/html": [
       "<div>\n",
       "<style scoped>\n",
       "    .dataframe tbody tr th:only-of-type {\n",
       "        vertical-align: middle;\n",
       "    }\n",
       "\n",
       "    .dataframe tbody tr th {\n",
       "        vertical-align: top;\n",
       "    }\n",
       "\n",
       "    .dataframe thead th {\n",
       "        text-align: right;\n",
       "    }\n",
       "</style>\n",
       "<table border=\"1\" class=\"dataframe\">\n",
       "  <thead>\n",
       "    <tr style=\"text-align: right;\">\n",
       "      <th></th>\n",
       "      <th>age</th>\n",
       "      <th>height</th>\n",
       "      <th>income</th>\n",
       "    </tr>\n",
       "  </thead>\n",
       "  <tbody>\n",
       "    <tr>\n",
       "      <th>count</th>\n",
       "      <td>59946.000000</td>\n",
       "      <td>59943.000000</td>\n",
       "      <td>59946.000000</td>\n",
       "    </tr>\n",
       "    <tr>\n",
       "      <th>mean</th>\n",
       "      <td>32.340290</td>\n",
       "      <td>68.295281</td>\n",
       "      <td>20033.222534</td>\n",
       "    </tr>\n",
       "    <tr>\n",
       "      <th>std</th>\n",
       "      <td>9.452779</td>\n",
       "      <td>3.994803</td>\n",
       "      <td>97346.192104</td>\n",
       "    </tr>\n",
       "    <tr>\n",
       "      <th>min</th>\n",
       "      <td>18.000000</td>\n",
       "      <td>1.000000</td>\n",
       "      <td>-1.000000</td>\n",
       "    </tr>\n",
       "    <tr>\n",
       "      <th>25%</th>\n",
       "      <td>26.000000</td>\n",
       "      <td>66.000000</td>\n",
       "      <td>-1.000000</td>\n",
       "    </tr>\n",
       "    <tr>\n",
       "      <th>50%</th>\n",
       "      <td>30.000000</td>\n",
       "      <td>68.000000</td>\n",
       "      <td>-1.000000</td>\n",
       "    </tr>\n",
       "    <tr>\n",
       "      <th>75%</th>\n",
       "      <td>37.000000</td>\n",
       "      <td>71.000000</td>\n",
       "      <td>-1.000000</td>\n",
       "    </tr>\n",
       "    <tr>\n",
       "      <th>max</th>\n",
       "      <td>110.000000</td>\n",
       "      <td>95.000000</td>\n",
       "      <td>1000000.000000</td>\n",
       "    </tr>\n",
       "  </tbody>\n",
       "</table>\n",
       "</div>"
      ],
      "text/plain": [
       "                age        height          income\n",
       "count  59946.000000  59943.000000    59946.000000\n",
       "mean      32.340290     68.295281    20033.222534\n",
       "std        9.452779      3.994803    97346.192104\n",
       "min       18.000000      1.000000       -1.000000\n",
       "25%       26.000000     66.000000       -1.000000\n",
       "50%       30.000000     68.000000       -1.000000\n",
       "75%       37.000000     71.000000       -1.000000\n",
       "max      110.000000     95.000000  1000000.000000"
      ]
     },
     "execution_count": 6,
     "metadata": {},
     "output_type": "execute_result"
    }
   ],
   "source": [
    "# \n",
    "cupid_df.describe()"
   ]
  },
  {
   "cell_type": "code",
   "execution_count": 7,
   "metadata": {},
   "outputs": [
    {
     "data": {
      "text/plain": [
       "age               54\n",
       "status             5\n",
       "sex                2\n",
       "orientation        3\n",
       "body_type         12\n",
       "diet              18\n",
       "drinks             6\n",
       "drugs              3\n",
       "education         32\n",
       "ethnicity        217\n",
       "height            60\n",
       "income            13\n",
       "job               21\n",
       "last_online    30123\n",
       "location         199\n",
       "offspring         15\n",
       "pets              15\n",
       "religion          45\n",
       "sign              48\n",
       "smokes             5\n",
       "speaks          7647\n",
       "essay0         54347\n",
       "essay1         51516\n",
       "essay2         48625\n",
       "essay3         43520\n",
       "essay4         49257\n",
       "essay5         48961\n",
       "essay6         43583\n",
       "essay7         45548\n",
       "essay8         39323\n",
       "essay9         45440\n",
       "dtype: int64"
      ]
     },
     "execution_count": 7,
     "metadata": {},
     "output_type": "execute_result"
    }
   ],
   "source": [
    "# Count the number of  unique values\n",
    "cupid_df.nunique()"
   ]
  },
  {
   "cell_type": "code",
   "execution_count": 71,
   "metadata": {},
   "outputs": [
    {
     "name": "stdout",
     "output_type": "stream",
     "text": [
      "----< age >----\n",
      "26     3724\n",
      "27     3685\n",
      "28     3583\n",
      "25     3531\n",
      "29     3295\n",
      "24     3242\n",
      "30     3149\n",
      "31     2735\n",
      "23     2592\n",
      "32     2587\n",
      "33     2206\n",
      "22     1934\n",
      "34     1902\n",
      "35     1755\n",
      "36     1583\n",
      "37     1427\n",
      "38     1330\n",
      "21     1282\n",
      "39     1172\n",
      "42     1072\n",
      "40     1030\n",
      "41      980\n",
      "20      953\n",
      "43      858\n",
      "44      708\n",
      "45      643\n",
      "19      611\n",
      "46      578\n",
      "47      529\n",
      "48      481\n",
      "49      459\n",
      "50      437\n",
      "51      350\n",
      "52      344\n",
      "18      309\n",
      "56      271\n",
      "54      267\n",
      "55      265\n",
      "57      256\n",
      "53      252\n",
      "59      221\n",
      "58      197\n",
      "60      195\n",
      "61      176\n",
      "62      167\n",
      "63      138\n",
      "64      113\n",
      "65      109\n",
      "66      105\n",
      "67       66\n",
      "68       59\n",
      "69       31\n",
      "110       1\n",
      "109       1\n",
      "Name: age, dtype: int64\n",
      "----< status >----\n",
      "single            55697\n",
      "seeing someone     2064\n",
      "available          1865\n",
      "married             310\n",
      "unknown              10\n",
      "Name: status, dtype: int64\n",
      "----< sex >----\n",
      "m    35829\n",
      "f    24117\n",
      "Name: sex, dtype: int64\n",
      "----< orientation >----\n",
      "straight    51606\n",
      "gay          5573\n",
      "bisexual     2767\n",
      "Name: orientation, dtype: int64\n",
      "----< body_type >----\n",
      "average           14652\n",
      "fit               12711\n",
      "athletic          11819\n",
      "thin               4711\n",
      "curvy              3924\n",
      "a little extra     2629\n",
      "skinny             1777\n",
      "full figured       1009\n",
      "overweight          444\n",
      "jacked              421\n",
      "used up             355\n",
      "rather not say      198\n",
      "Name: body_type, dtype: int64\n",
      "----< diet >----\n",
      "mostly anything        16585\n",
      "anything                6183\n",
      "strictly anything       5113\n",
      "mostly vegetarian       3444\n",
      "mostly other            1007\n",
      "strictly vegetarian      875\n",
      "vegetarian               667\n",
      "strictly other           452\n",
      "mostly vegan             338\n",
      "other                    331\n",
      "strictly vegan           228\n",
      "vegan                    136\n",
      "mostly kosher             86\n",
      "mostly halal              48\n",
      "strictly halal            18\n",
      "strictly kosher           18\n",
      "halal                     11\n",
      "kosher                    11\n",
      "Name: diet, dtype: int64\n",
      "----< drinks >----\n",
      "socially       41780\n",
      "rarely          5957\n",
      "often           5164\n",
      "not at all      3267\n",
      "very often       471\n",
      "desperately      322\n",
      "Name: drinks, dtype: int64\n",
      "----< drugs >----\n",
      "never        37724\n",
      "sometimes     7732\n",
      "often          410\n",
      "Name: drugs, dtype: int64\n",
      "----< education >----\n",
      "graduated from college/university    23959\n",
      "graduated from masters program        8961\n",
      "working on college/university         5712\n",
      "working on masters program            1683\n",
      "graduated from two-year college       1531\n",
      "graduated from high school            1428\n",
      "graduated from ph.d program           1272\n",
      "graduated from law school             1122\n",
      "working on two-year college           1074\n",
      "dropped out of college/university      995\n",
      "working on ph.d program                983\n",
      "college/university                     801\n",
      "graduated from space camp              657\n",
      "dropped out of space camp              523\n",
      "graduated from med school              446\n",
      "working on space camp                  445\n",
      "working on law school                  269\n",
      "two-year college                       222\n",
      "working on med school                  212\n",
      "dropped out of two-year college        191\n",
      "dropped out of masters program         140\n",
      "masters program                        136\n",
      "dropped out of ph.d program            127\n",
      "dropped out of high school             102\n",
      "high school                             96\n",
      "working on high school                  87\n",
      "space camp                              58\n",
      "ph.d program                            26\n",
      "law school                              19\n",
      "dropped out of law school               18\n",
      "dropped out of med school               12\n",
      "med school                              11\n",
      "Name: education, dtype: int64\n",
      "----< ethnicity >----\n",
      "white                                                                 32831\n",
      "asian                                                                  6134\n",
      "hispanic / latin                                                       2823\n",
      "black                                                                  2008\n",
      "other                                                                  1706\n",
      "                                                                      ...  \n",
      "middle eastern, indian, white                                             1\n",
      "asian, middle eastern, black, white, other                                1\n",
      "asian, middle eastern, indian, hispanic / latin, white, other             1\n",
      "black, native american, indian, pacific islander, hispanic / latin        1\n",
      "asian, black, indian                                                      1\n",
      "Name: ethnicity, Length: 217, dtype: int64\n",
      "----< height >----\n",
      "70.0    6074\n",
      "68.0    5449\n",
      "67.0    5354\n",
      "72.0    5315\n",
      "69.0    5179\n",
      "71.0    4826\n",
      "66.0    4759\n",
      "64.0    3865\n",
      "65.0    3794\n",
      "73.0    2815\n",
      "63.0    2767\n",
      "74.0    2547\n",
      "62.0    2244\n",
      "75.0    1382\n",
      "61.0    1090\n",
      "60.0     791\n",
      "76.0     783\n",
      "77.0     280\n",
      "59.0     212\n",
      "78.0     132\n",
      "79.0      57\n",
      "58.0      53\n",
      "80.0      27\n",
      "95.0      20\n",
      "57.0      17\n",
      "83.0      12\n",
      "81.0      11\n",
      "82.0      11\n",
      "36.0      11\n",
      "84.0       9\n",
      "56.0       8\n",
      "55.0       6\n",
      "53.0       5\n",
      "94.0       3\n",
      "54.0       3\n",
      "91.0       3\n",
      "50.0       2\n",
      "88.0       2\n",
      "37.0       2\n",
      "48.0       2\n",
      "43.0       2\n",
      "1.0        1\n",
      "51.0       1\n",
      "90.0       1\n",
      "26.0       1\n",
      "85.0       1\n",
      "9.0        1\n",
      "89.0       1\n",
      "92.0       1\n",
      "87.0       1\n",
      "49.0       1\n",
      "47.0       1\n",
      "6.0        1\n",
      "42.0       1\n",
      "86.0       1\n",
      "3.0        1\n",
      "8.0        1\n",
      "93.0       1\n",
      "52.0       1\n",
      "4.0        1\n",
      "Name: height, dtype: int64\n",
      "----< income >----\n",
      "-1          48442\n",
      " 20000       2952\n",
      " 100000      1621\n",
      " 80000       1111\n",
      " 30000       1048\n",
      " 40000       1005\n",
      " 50000        975\n",
      " 60000        736\n",
      " 70000        707\n",
      " 150000       631\n",
      " 1000000      521\n",
      " 250000       149\n",
      " 500000        48\n",
      "Name: income, dtype: int64\n",
      "----< job >----\n",
      "other                                7589\n",
      "student                              4882\n",
      "science / tech / engineering         4848\n",
      "computer / hardware / software       4709\n",
      "artistic / musical / writer          4439\n",
      "sales / marketing / biz dev          4391\n",
      "medicine / health                    3680\n",
      "education / academia                 3513\n",
      "executive / management               2373\n",
      "banking / financial / real estate    2266\n",
      "entertainment / media                2250\n",
      "law / legal services                 1381\n",
      "hospitality / travel                 1364\n",
      "construction / craftsmanship         1021\n",
      "clerical / administrative             805\n",
      "political / government                708\n",
      "rather not say                        436\n",
      "transportation                        366\n",
      "unemployed                            273\n",
      "retired                               250\n",
      "military                              204\n",
      "Name: job, dtype: int64\n",
      "----< last_online >----\n",
      "2012-06-29-22-56    24\n",
      "2012-06-30-21-51    23\n",
      "2012-06-30-22-09    23\n",
      "2012-06-30-22-56    23\n",
      "2012-06-30-23-27    23\n",
      "                    ..\n",
      "2011-08-23-23-25     1\n",
      "2011-11-14-20-18     1\n",
      "2012-05-07-18-14     1\n",
      "2012-05-31-19-01     1\n",
      "2012-06-14-16-51     1\n",
      "Name: last_online, Length: 30123, dtype: int64\n",
      "----< location >----\n",
      "san francisco, california         31064\n",
      "oakland, california                7214\n",
      "berkeley, california               4212\n",
      "san mateo, california              1331\n",
      "palo alto, california              1064\n",
      "                                  ...  \n",
      "south wellfleet, massachusetts        1\n",
      "orange, california                    1\n",
      "astoria, new york                     1\n",
      "london, united kingdom                1\n",
      "rochester, michigan                   1\n",
      "Name: location, Length: 199, dtype: int64\n",
      "----< offspring >----\n",
      "doesn't have kids                          7560\n",
      "doesn't have kids, but might want them     3875\n",
      "doesn't have kids, but wants them          3565\n",
      "doesn't want kids                          2927\n",
      "has kids                                   1883\n",
      "has a kid                                  1881\n",
      "doesn't have kids, and doesn't want any    1132\n",
      "has kids, but doesn't want more             442\n",
      "has a kid, but doesn't want more            275\n",
      "has a kid, and might want more              231\n",
      "wants kids                                  225\n",
      "might want kids                             182\n",
      "has kids, and might want more               115\n",
      "has a kid, and wants more                    71\n",
      "has kids, and wants more                     21\n",
      "Name: offspring, dtype: int64\n",
      "----< pets >----\n",
      "likes dogs and likes cats          14814\n",
      "likes dogs                          7224\n",
      "likes dogs and has cats             4313\n",
      "has dogs                            4134\n",
      "has dogs and likes cats             2333\n",
      "likes dogs and dislikes cats        2029\n",
      "has dogs and has cats               1474\n",
      "has cats                            1406\n",
      "likes cats                          1063\n",
      "has dogs and dislikes cats           552\n",
      "dislikes dogs and likes cats         240\n",
      "dislikes dogs and dislikes cats      196\n",
      "dislikes cats                        122\n",
      "dislikes dogs and has cats            81\n",
      "dislikes dogs                         44\n",
      "Name: pets, dtype: int64\n",
      "----< religion >----\n",
      "agnosticism                                   2724\n",
      "other                                         2691\n",
      "agnosticism but not too serious about it      2636\n",
      "agnosticism and laughing about it             2496\n",
      "catholicism but not too serious about it      2318\n",
      "atheism                                       2175\n",
      "other and laughing about it                   2119\n",
      "atheism and laughing about it                 2074\n",
      "christianity                                  1957\n",
      "christianity but not too serious about it     1952\n",
      "other but not too serious about it            1554\n",
      "judaism but not too serious about it          1517\n",
      "atheism but not too serious about it          1318\n",
      "catholicism                                   1064\n",
      "christianity and somewhat serious about it     927\n",
      "atheism and somewhat serious about it          848\n",
      "other and somewhat serious about it            846\n",
      "catholicism and laughing about it              726\n",
      "judaism and laughing about it                  681\n",
      "buddhism but not too serious about it          650\n",
      "agnosticism and somewhat serious about it      642\n",
      "judaism                                        612\n",
      "christianity and very serious about it         578\n",
      "atheism and very serious about it              570\n",
      "catholicism and somewhat serious about it      548\n",
      "other and very serious about it                533\n",
      "buddhism and laughing about it                 466\n",
      "buddhism                                       403\n",
      "christianity and laughing about it             373\n",
      "buddhism and somewhat serious about it         359\n",
      "agnosticism and very serious about it          314\n",
      "judaism and somewhat serious about it          266\n",
      "hinduism but not too serious about it          227\n",
      "hinduism                                       107\n",
      "catholicism and very serious about it          102\n",
      "buddhism and very serious about it              70\n",
      "hinduism and somewhat serious about it          58\n",
      "islam                                           48\n",
      "hinduism and laughing about it                  44\n",
      "islam but not too serious about it              40\n",
      "judaism and very serious about it               22\n",
      "islam and somewhat serious about it             22\n",
      "islam and laughing about it                     16\n",
      "hinduism and very serious about it              14\n",
      "islam and very serious about it                 13\n",
      "Name: religion, dtype: int64\n",
      "----< sign >----\n",
      "gemini and it&rsquo;s fun to think about         1782\n",
      "scorpio and it&rsquo;s fun to think about        1772\n",
      "leo and it&rsquo;s fun to think about            1692\n",
      "libra and it&rsquo;s fun to think about          1649\n",
      "taurus and it&rsquo;s fun to think about         1640\n",
      "cancer and it&rsquo;s fun to think about         1597\n",
      "pisces and it&rsquo;s fun to think about         1592\n",
      "sagittarius and it&rsquo;s fun to think about    1583\n",
      "virgo and it&rsquo;s fun to think about          1574\n",
      "aries and it&rsquo;s fun to think about          1573\n",
      "aquarius and it&rsquo;s fun to think about       1503\n",
      "virgo but it doesn&rsquo;t matter                1497\n",
      "leo but it doesn&rsquo;t matter                  1457\n",
      "cancer but it doesn&rsquo;t matter               1454\n",
      "gemini but it doesn&rsquo;t matter               1453\n",
      "taurus but it doesn&rsquo;t matter               1450\n",
      "libra but it doesn&rsquo;t matter                1408\n",
      "aquarius but it doesn&rsquo;t matter             1408\n",
      "capricorn and it&rsquo;s fun to think about      1376\n",
      "sagittarius but it doesn&rsquo;t matter          1375\n",
      "aries but it doesn&rsquo;t matter                1373\n",
      "capricorn but it doesn&rsquo;t matter            1319\n",
      "pisces but it doesn&rsquo;t matter               1300\n",
      "scorpio but it doesn&rsquo;t matter              1264\n",
      "leo                                              1159\n",
      "libra                                            1098\n",
      "cancer                                           1092\n",
      "virgo                                            1029\n",
      "scorpio                                          1020\n",
      "gemini                                           1013\n",
      "taurus                                           1001\n",
      "aries                                             996\n",
      "pisces                                            992\n",
      "aquarius                                          954\n",
      "sagittarius                                       937\n",
      "capricorn                                         833\n",
      "scorpio and it matters a lot                       78\n",
      "leo and it matters a lot                           66\n",
      "cancer and it matters a lot                        63\n",
      "aquarius and it matters a lot                      63\n",
      "pisces and it matters a lot                        62\n",
      "gemini and it matters a lot                        62\n",
      "libra and it matters a lot                         52\n",
      "taurus and it matters a lot                        49\n",
      "aries and it matters a lot                         47\n",
      "sagittarius and it matters a lot                   47\n",
      "capricorn and it matters a lot                     45\n",
      "virgo and it matters a lot                         41\n",
      "Name: sign, dtype: int64\n",
      "----< smokes >----\n",
      "no                43896\n",
      "sometimes          3787\n",
      "when drinking      3040\n",
      "yes                2231\n",
      "trying to quit     1480\n",
      "Name: smokes, dtype: int64\n",
      "----< speaks >----\n",
      "english                                                                21828\n",
      "english (fluently)                                                      6628\n",
      "english (fluently), spanish (poorly)                                    2059\n",
      "english (fluently), spanish (okay)                                      1917\n",
      "english (fluently), spanish (fluently)                                  1288\n",
      "                                                                       ...  \n",
      "english (fluently), urdu (poorly), japanese (poorly), french (okay)        1\n",
      "english, spanish, hindi, c++                                               1\n",
      "english (fluently), japanese (okay), thai (okay), chinese (poorly)         1\n",
      "english (fluently), french (okay), italian (okay), hebrew (okay)           1\n",
      "english (fluently), french, farsi                                          1\n",
      "Name: speaks, Length: 7647, dtype: int64\n",
      "----< essay0 >----\n",
      ".                                                                                                                                                                                                                                                                                                                                                                                                                                                                                                                                                                                                                                                                                                                                                                                                                                                                                                                                                                                                                                                                                                                                                                                                                                                                                                                                                                                                                                                                                                                                                                                                                                                                                12\n",
      "ask me                                                                                                                                                                                                                                                                                                                                                                                                                                                                                                                                                                                                                                                                                                                                                                                                                                                                                                                                                                                                                                                                                                                                                                                                                                                                                                                                                                                                                                                                                                                                                                                                                                                                           11\n",
      "under construction                                                                                                                                                                                                                                                                                                                                                                                                                                                                                                                                                                                                                                                                                                                                                                                                                                                                                                                                                                                                                                                                                                                                                                                                                                                                                                                                                                                                                                                                                                                                                                                                                                                                8\n",
      "hi                                                                                                                                                                                                                                                                                                                                                                                                                                                                                                                                                                                                                                                                                                                                                                                                                                                                                                                                                                                                                                                                                                                                                                                                                                                                                                                                                                                                                                                                                                                                                                                                                                                                                6\n",
      "...                                                                                                                                                                                                                                                                                                                                                                                                                                                                                                                                                                                                                                                                                                                                                                                                                                                                                                                                                                                                                                                                                                                                                                                                                                                                                                                                                                                                                                                                                                                                                                                                                                                                               6\n",
      "                                                                                                                                                                                                                                                                                                                                                                                                                                                                                                                                                                                                                                                                                                                                                                                                                                                                                                                                                                                                                                                                                                                                                                                                                                                                                                                                                                                                                                                                                                                                                                                                                                                                                 ..\n",
      "ok, i'm not 44, i'm 48. but i feel the need to adjust this detail in order to meet women who might have more in common with me... having said this, i'm a very young 48 (that sounds dumb i know). but, i live a life that is far too youthful to pigeonhole myself at some specific age. so, i'm not trying to trick anyone in regards to my age...i'm just trying to meet a compatible match and if this is what it takes, so be it...i generally do not fib about myself.                                                                                                                                                                                                                                                                                                                                                                                                                                                                                                                                                                                                                                                                                                                                                                                                                                                                                                                                                                                                                                                                                                                                                                                                      1\n",
      "i have a fantastic life filled with friends and family. i have a successful career that i'm passionate about and i am my own boss. all things considered, life is good. now, i'm looking to share it with a partner...  i enjoy road trip adventures and getaways to sunny locales. vacation wise, i am not good with an itinerary. i prefer a low key vacation and can spend time by the pool or ocean without an ounce of guilt. i also prefer the experience to the picture so i have more stories than proof but i'm ok with that.  i love most sports and can watch almost any event on tv or live. don't worry if you don't like sports. i won't try to convert you and i'm not a fanatic. there can be harmony!  i have a fantastic group of diverse friends and family and i am looking for someone who isn't thrown off by that. i am also open to meeting new people and have space for someone in my life.  all pics are current and accurate.                                                                                                                                                                                                                                                                                                                                                                                                                                                                                                                                                                                                                                                                                                                         1\n",
      "hey there! hope your evening is off to a great start. you did land on my profile, so it can't be that bad right? haha jk.  i was born in new york city and moved to san francisco in 2010 to chase my dream of one day becoming a ceo at a fortune 500 company. unfortunately, i haven't had time to get out much b/c of work. i'm hoping to meet a sweet girl who will show me her favorite parts of the city and where i can get the best sf eats.  so what do i like to do in my free time? well, i'm a people person and love hanging out with my friends and meeting new people. i like sports and working out. i often play pickup games of basketball, and love hitting tennis balls. i used to play ice hockey quite a bit, but haven't really found a team to join in sf yet. i also like to play piano and read, mostly non-fiction and business related stuff. my favorite tv channels are food network and travel channel. my most recent trips out of the country were to china and hong kong, and paris, brussels and amsterdam.  what do i look for in a girl? the most important thing to me is her values. humility, passion, intelligence, and empathy are some of the things i find most attractive. i would also like to meet someone who is not afraid to live her life, have fun, take chances, and is not insane. if you have a playful sense of humor, a pretty smile, and live a healthy lifestyle you'd be someone who i want to get to know.  if you think we'd get along, i'd love to hear from you. send me a message and i'll try my best to get back to you soon. if not, i wish you a wonderful evening shopping online for your perfect guy.     1\n",
      "recently arrived in san francisco from new york. always wanted to try living out here, and i finally got motivated to make it happen. as all moves inevitably are, mine was a headache. but now comes the fun part: getting to know my new city.  i'm a girl who strikes a good balance between naughty and nice. by day, i'm a cheerful, gregarious, hardworking schoolteacher. by night, i like to get dressed up, go out with the girls, get my flirt on, and have a good time.  looking for someone who, like me, can be a bit of a smart ass. nothing gets me like a guy who can challenge me in an exchange of witty banter. i'm attracted to guys who are smart, occasionally sarcastic, flirtatious, confident, and funny.  i am sugar, spice, and everything nice                                                                                                                                                                                                                                                                                                                                                                                                                                                                                                                                                                                                                                                                                                                                                                                                                                                                                                        1\n",
      "is it odd that having a little \"enemy\" status with someone, makes them seem more interesting to me?  i'm an extremely socially-graced outcast. my totally awkward childhood surprisingly yielded to something extroverted, thoughtful and diplomatic. i'm a nice guy, i love people, i love humanity, and i can get pretty angry about all of the above. if i end up the loudest guy in the room, i'm never so loud that i cant hear what anyone else is saying.  though i am often inappropriate and desperately unable to pass up a joke, no one has ever punched me. i think too much, and talk to much, but know when to shut the f up.  for the sake of accurate representation, i'm going to qualify my \"average\" body type as a bit of muscle and a bit of fat. note: i have recently become an ebook-reading-cardio-addict. now that i can jog and read oversized print at the same time i can't stay away from a treadmill. seriously, 4+ books, 60+ minutes 4+ times a week for 6 weeks and counting.                                                                                                                                                                                                                                                                                                                                                                                                                                                                                                                                                                                                                                                                   1\n",
      "Name: essay0, Length: 54347, dtype: int64\n",
      "----< essay1 >----\n",
      "enjoying it.                                                                                                                                                                                                                                                                                                                                                                                                                                                                                                                                                                                                                                                                                                                                                                          61\n",
      "living it.                                                                                                                                                                                                                                                                                                                                                                                                                                                                                                                                                                                                                                                                                                                                                                            58\n",
      "living it                                                                                                                                                                                                                                                                                                                                                                                                                                                                                                                                                                                                                                                                                                                                                                             51\n",
      "living it!                                                                                                                                                                                                                                                                                                                                                                                                                                                                                                                                                                                                                                                                                                                                                                            42\n",
      "enjoying it!                                                                                                                                                                                                                                                                                                                                                                                                                                                                                                                                                                                                                                                                                                                                                                          39\n",
      "                                                                                                                                                                                                                                                                                                                                                                                                                                                                                                                                                                                                                                                                                                                                                                                      ..\n",
      "living in san francisco, going to school for product design.                                                                                                                                                                                                                                                                                                                                                                                                                                                                                                                                                                                                                                                                                                                           1\n",
      "i am living it that's for sure!  i am recently single and evaluating what relationships mean and what purpose they serve in my life.  currently, i am working on a bs in civil engineering. so that most def takes up a large portion of my fall and spring. i thought about being a career student but then i realized that i would never actually get paid so i think this will be my last go around for a bit.  to make all of this possible it is a must to have a flexible job. i took up coffee passion and work as a supervisor at a starbucks; not the classiest of jobs but it gets the bills paid. during the spring and summer i teach wind and kite surfing! a regular 9-5 would never allow for that but who can complain with 2 miles of beach front office space :)     1\n",
      "work and play. try my best to get a good balance of the two.                                                                                                                                                                                                                                                                                                                                                                                                                                                                                                                                                                                                                                                                                                                           1\n",
      "i'm trying to break into a hard profession to break into. i think a lot of people see it as something i find very fun (which is true), and because of that think i'm kind of just screwing around. but really, i'm at the end of what is the equivalent of a three-year apprenticeship, at the end of which i'll either be chewed up and spit out, or i'll make it. and it turns out a lot of other people seem to find the same thing fun, and it's ended up being the most competitive environment i've ever been in.  i'm also finishing grad school. i try to write. i care a lot. i work hard, but the bay is too wonderful not to enjoy living here.                                                                                                                             1\n",
      "i work with elderly people (psychotherapy and case management) and i'm inching into public health (volunteer for now at a men's health clinic). studying for my mft license exam. professionally, i have a path for sure, and creatively i'm always working things out. keeping my sanity through excessive amounts of cardio. (muffin-top gone!)                                                                                                                                                                                                                                                                                                                                                                                                                                      1\n",
      "Name: essay1, Length: 51516, dtype: int64\n",
      "----< essay2 >----\n",
      "listening                                                                                                                                                                                                                                                                                                                                                                                                                                                                                                                                        82\n",
      "making people laugh                                                                                                                                                                                                                                                                                                                                                                                                                                                                                                                              73\n",
      "making people laugh.                                                                                                                                                                                                                                                                                                                                                                                                                                                                                                                             68\n",
      "listening.                                                                                                                                                                                                                                                                                                                                                                                                                                                                                                                                       58\n",
      "cooking                                                                                                                                                                                                                                                                                                                                                                                                                                                                                                                                          57\n",
      "                                                                                                                                                                                                                                                                                                                                                                                                                                                                                                                                                 ..\n",
      "being there for my friends when they need me. making my friends laugh, listening, sharing, cooking; especially for my friends and family :) pairing food & wine, track down awesome local beers, dance the night away while getting made fun of for dancing like a straight white guy lol                                                                                                                                                                                                                                                         1\n",
      "(hopefully) being patient and working with kids.                                                                                                                                                                                                                                                                                                                                                                                                                                                                                                  1\n",
      "most meals...but especially dinners diplomacy. shenanigans. photo bombing. making lists.                                                                                                                                                                                                                                                                                                                                                                                                                                                          1\n",
      "- eating pastries. i am an accomplished eater of pastries. - injuring myself while trying (unsuccessfully) to surf, and having a little sister who, in spite of it all, still loves to surf with me. - cracking lame jokes. i love corny word puns. - singing to myself. - apparently, tricking staff robot into thinking that i'm \"more cool\" than average. if i ever have the pleasure of meeting staff robot, it will be sorely disappointed.                                                                                                  1\n",
      "i'm a great bullshitter. i don't know what it is but people just plain believe the craziest shit i tell them. i'm a good conversationalist (pre-req for bullshitting) - i can talk to anyone about anything. i have a good memory for most things (except names) and my brain is a trap for random information. i'm also pretty good at ranting and then talking the pitchforks out of the assembling mob's hands (because i'm a lover not a riot leader). give me a job to do and i'll to it thoughtfully and very well. jack of all trades.     1\n",
      "Name: essay2, Length: 48625, dtype: int64\n",
      "----< essay3 >----\n",
      "my smile                                                                                                                                                                                                                                                                                           529\n",
      "my eyes                                                                                                                                                                                                                                                                                            369\n",
      "my smile.                                                                                                                                                                                                                                                                                          304\n",
      "my eyes.                                                                                                                                                                                                                                                                                           174\n",
      "smile                                                                                                                                                                                                                                                                                               99\n",
      "                                                                                                                                                                                                                                                                                                  ... \n",
      "i don't hesitant to speak my mind. usually it's a good thing.                                                                                                                                                                                                                                        1\n",
      "my smile my willingness to help out                                                                                                                                                                                                                                                                  1\n",
      "my dimples and my unique laugh. they usually come hand-in-hand.                                                                                                                                                                                                                                      1\n",
      "i'm a nice guy, a bit introverted.                                                                                                                                                                                                                                                                   1\n",
      "either that i am funny/sarcastic, or that i am totally insulting followed by the realization that i am just a nice guy, who at times doesn't communicate in the most delicate ways.  when i am in a reserved mood ... maybe it is my loud laugh? my big nose? something i'm totally unaware of?      1\n",
      "Name: essay3, Length: 43520, dtype: int64\n",
      "----< essay4 >----\n",
      "ask me                                                                                                                                                                                                                                                                                                                                                                                                                                                                                                                                                                                                                                                                                                                                                                                                                                                                                                                                                                                                                                                                                                                                                                                                                                                                                                                                                                                                  16\n",
      "too many to list.                                                                                                                                                                                                                                                                                                                                                                                                                                                                                                                                                                                                                                                                                                                                                                                                                                                                                                                                                                                                                                                                                                                                                                                                                                                                                                                                                                                       10\n",
      "too many to list                                                                                                                                                                                                                                                                                                                                                                                                                                                                                                                                                                                                                                                                                                                                                                                                                                                                                                                                                                                                                                                                                                                                                                                                                                                                                                                                                                                        10\n",
      "ask me.                                                                                                                                                                                                                                                                                                                                                                                                                                                                                                                                                                                                                                                                                                                                                                                                                                                                                                                                                                                                                                                                                                                                                                                                                                                                                                                                                                                                  9\n",
      "everything                                                                                                                                                                                                                                                                                                                                                                                                                                                                                                                                                                                                                                                                                                                                                                                                                                                                                                                                                                                                                                                                                                                                                                                                                                                                                                                                                                                               7\n",
      "                                                                                                                                                                                                                                                                                                                                                                                                                                                                                                                                                                                                                                                                                                                                                                                                                                                                                                                                                                                                                                                                                                                                                                                                                                                                                                                                                                                                        ..\n",
      "books: perfume, this book will save your life, breakfast of champions, stiff, the wisdom of solitude. autobiographies: tom petty, charles mingus, theodore roosevelt, jimmy carter. biographies: jaco pastorious, jacqueline kennedy onassis, frida kahlo  movies: forrest gump, the triplets of belleville, enamorada, roman holiday.  music: gotan project, mo' horizons, astor piazzolla, the dwarves, johnny cash, neil diamond (yes, neil diamond), supersuckers, social distortion, dephazz, godsmack, carlos libedinski, --- depends on what i am doing and my mood... could be rage against the machine, could be belle and sebastian. i listen to my mood, it tells me what i need to hear...  food: hmmm, burritos are pretty good.... so are curries.                                                                                                                                                                                                                                                                                                                                                                                                                                                                                                                                                                                                                                         1\n",
      "i enjoy science fiction. i like the thoughtful stuff. movies or books that transport you to a different world. hopefully, with the result of learning something new about this world.  i've been on a non-fiction kick lately. the heart and the fist. the big short. the gamble.  no worries though, as i rock the fiction too. recents include: orcs (fun series where the tables are turned) the host (by same author as twilight). that was awesome, but very introspective.  love to see live music. blues and rock.                                                                                                                                                                                                                                                                                                                                                                                                                                                                                                                                                                                                                                                                                                                                                                                                                                                                                1\n",
      "italian food's my thing, love eating and cooking it. also love thai, vietnamese, chinese, japanese, korean, burmese, (basically all different asian cuisines), indian, mexican, french, spanish, southern comfort food, new american and sometimes a well cooked organic free range burger and/or steak can also hit the spot (mid-rare, please)!! hmm ... that's pretty much all the cuisines out there, can't help it cuz i'm just a food lover!!  i mostly read for fun to escape my crazy life haha. one of my all time favorites is catcher in the rye, i read it 5 times! kitchen confidential, letters to young chefs are among my top picks because they offer great insights about being a chef and i enjoy kitchen humors :) also james patterson novels, harry potter books, and other fantasy novels.  music - i love country, classic rock, alternative rock, dance music, classical, 80s metal, blues, folks ... not very big on hip-hop, hardcore and rap.  movies - too many to list, really. um, i love comedy, romantic comedy, action, syfy, fantasy, some drama (depends on the subject matters). these are a few movies i have watched more than once (& will watch them again) - i love you man, nick & nora's infinite playlist, sleepless in seattle, transformers, iron man 1 & 2, kill bill 1 & 2, sorcerer's apprentice, die hard movies, donnie darko, garden state, ...     1\n",
      "last show - black keys music playing in my car - walkmen book currently reading - 2666 movie last watched - drive favourite meal this week - coq au vin                                                                                                                                                                                                                                                                                                                                                                                                                                                                                                                                                                                                                                                                                                                                                                                                                                                                                                                                                                                                                                                                                                                                                                                                                                                  1\n",
      "i just read the help by kathryn stockett, sooooooo gooooood! just finished, the time machine by h.g. wells - i think about this book a lot. currently reading a totally sad true love story, interesting book. some of my faves are the confederacy of dunces, lolita, devil in the white city. i am just now becoming a regular reader and i love it!  love music too many to list ... more later. love movies, see everything i can - some favorites: dr. strangelove, eternal sunshine of a spotless mind, wall-e ... more later.                                                                                                                                                                                                                                                                                                                                                                                                                                                                                                                                                                                                                                                                                                                                                                                                                                                                     1\n",
      "Name: essay4, Length: 49257, dtype: int64\n",
      "----< essay5 >----\n",
      "family                                                                                                                                                                                                                                                                                                                                                                                                                   6\n",
      "ask me                                                                                                                                                                                                                                                                                                                                                                                                                   6\n",
      "my family                                                                                                                                                                                                                                                                                                                                                                                                                6\n",
      "nothing                                                                                                                                                                                                                                                                                                                                                                                                                  4\n",
      "my senses.                                                                                                                                                                                                                                                                                                                                                                                                               4\n",
      "                                                                                                                                                                                                                                                                                                                                                                                                                        ..\n",
      "science! friends n family games coffee laughter art (many of these things in combination, please)                                                                                                                                                                                                                                                                                                                        1\n",
      "my friends. huh...offhand nothing else really comes to mind. if i was taken by aliens and dropped naked on another planet (assuming it's, *ahem*, class m)...i'd miss my friends. i like modern conveniences but i could manage to live without them. although i have a number of toys, i try to not be materialistic - people are more important than things.  and, hey, aliens! new planet to explore! while naked!    1\n",
      "art: music, photography, paint, sculpture, architecture, film, dance, words... someone else's passion.   my bike and public transportation.   foooooood! and the opportunity to cook and entertain.   an ocean within view.   outdoors.   the internet.                                                                                                                                                                  1\n",
      "my eyes -- i dream of goggles, especially on my bike.                                                                                                                                                                                                                                                                                                                                                                    1\n",
      "1. family & friends & other humans - interaction 2. music & movies & books - entertainment 3. computer & electronics 4. clean underwear 5. exercise (with a book) 6. caffeine                                                                                                                                                                                                                                            1\n",
      "Name: essay5, Length: 48961, dtype: int64\n",
      "----< essay6 >----\n",
      "my future                                                                                                                                                                                                                                                                                                                                                                                                                                                               161\n",
      "the future                                                                                                                                                                                                                                                                                                                                                                                                                                                              130\n",
      "life                                                                                                                                                                                                                                                                                                                                                                                                                                                                    126\n",
      "my future.                                                                                                                                                                                                                                                                                                                                                                                                                                                               92\n",
      "everything                                                                                                                                                                                                                                                                                                                                                                                                                                                               77\n",
      "                                                                                                                                                                                                                                                                                                                                                                                                                                                                       ... \n",
      "how not to think quite so much. as a friend at caltech said recently, \"thought is the opposite of now.\"  and then i think about the story of the six blind men and the elephant. too bad it's ablest, when it's such a great metaphor.                                                                                                                                                                                                                                    1\n",
      "people, inspiration, adventures, brevity & clarity of expression.                                                                                                                                                                                                                                                                                                                                                                                                         1\n",
      "...how to reconcile my atheism of about 7 years with my 13 years of some-degree-of-jewish-observance. i wasn't born jewish. it's a long story...  edit (early 2012): i would say that while this is resolving fairly clearly in the direction of straightforward atheism in terms of my views, i will always feel a lot of love for jewish tradition and ethics and will probably consider to participate in at least some holidays and occasional shabbat services.      1\n",
      "the latest problem related to my thesis. i spend a lot of time doing math by spacing out and staring at nothing in particular. when it's not about math, i'm probably thinking one of the board games i play; many of them are highly tactical and strategic, so i can spend a lot of time trying to figure how all the mechanics interact.                                                                                                                               1\n",
      "sex, myself, other people, how amazing everything is, how fucked up everything is, that damn song stuck in my head, whats to eat, whats to do, something inappropriate. why can't i stop thinking about things that aren't worth thinking about.                                                                                                                                                                                                                          1\n",
      "Name: essay6, Length: 43583, dtype: int64\n",
      "----< essay7 >----\n",
      "out with friends                                                                                                                        89\n",
      "working                                                                                                                                 75\n",
      "hanging out with friends                                                                                                                69\n",
      "out with friends.                                                                                                                       66\n",
      "hanging out with friends.                                                                                                               57\n",
      "                                                                                                                                        ..\n",
      "on the couch. in all honesty, friday is my lazy night = yoga pants, internet tv, snaxxx....and ideally someone to share the blanket.     1\n",
      "either hanging out with some friends, going to shows, go on adventures or just staying in working on an art project of mine              1\n",
      "parting or at a show(punk, metal, hiphop, whatever).  o, and: http://www.youtube.com/watch?v=jl1mqashc48                                 1\n",
      "wining it up at home out the door by 11, most likely headed toward a drag show, or fun dance night somewhere.                            1\n",
      "out at happy hour with my friends, running into other friends, ranting about something hardly worth the rant .. or at home.              1\n",
      "Name: essay7, Length: 45548, dtype: int64\n",
      "----< essay8 >----\n",
      "ask me                                                                                                                                                                45\n",
      "nothing                                                                                                                                                               41\n",
      "...                                                                                                                                                                   37\n",
      "ask me.                                                                                                                                                               30\n",
      "nothing.                                                                                                                                                              23\n",
      "                                                                                                                                                                      ..\n",
      "i cried at the end of howard the duck (it was 23 years ago and i really don't have any idea why i did now that i think about it...)                                    1\n",
      "in kindergarten, i got my name on the board as the first kid to be able to tie his shoes, even though my knot wasn't quite right. the guilt haunts me to this day.     1\n",
      ".....it wouldn't be private if i told you.....                                                                                                                         1\n",
      "who in their right mind would answer a question like this on a public website?                                                                                         1\n",
      "i wish i could cry like holly hunter in broadcast news.                                                                                                                1\n",
      "Name: essay8, Length: 39323, dtype: int64\n",
      "----< essay9 >----\n",
      "you want to.                                                                                                                                                                                                                 200\n",
      "you want to                                                                                                                                                                                                                  126\n",
      "you feel like it.                                                                                                                                                                                                             67\n",
      "you want to!                                                                                                                                                                                                                  41\n",
      "you feel like it                                                                                                                                                                                                              35\n",
      "                                                                                                                                                                                                                            ... \n",
      "you think i'm interesting and would like to meet and see if there's chemistry. i'm totally mellow and not expecting anything. i've got a good life but i'd like to see if there is something else that's great out there!      1\n",
      "you are a positive ,active,happy,charming,honest & energetic guy!!!                                                                                                                                                            1\n",
      "i perform in public quite a bit so if you like the piano and want to come see one of my shows, send me a message and i will make sure you know when and where the next one is                                                  1\n",
      "if you read all the way down here, you might as well drop me a note! i'd love to hear from you.                                                                                                                                1\n",
      "if you have a back-bone, an opinion, a sense of humor, want to meet face-to-face.                                                                                                                                              1\n",
      "Name: essay9, Length: 45440, dtype: int64\n"
     ]
    }
   ],
   "source": [
    "# Seeing/counting all the labels\n",
    "for c in cupid_df.columns:    \n",
    "    print (f\"----< {c} >----\")\n",
    "    print(cupid_df[c].value_counts())"
   ]
  },
  {
   "cell_type": "code",
   "execution_count": 52,
   "metadata": {},
   "outputs": [
    {
     "data": {
      "text/plain": [
       "age                  age\n",
       "26   3724\n",
       "27   3685\n",
       "28   3583\n",
       "25   3...\n",
       "status                         status\n",
       "single           55697\n",
       "...\n",
       "sex                                        sex\n",
       "m  35829\n",
       "f  24117\n",
       "orientation              orientation\n",
       "straight        51606\n",
       "ga...\n",
       "body_type                      body_type\n",
       "average             ...\n",
       "diet                                 diet\n",
       "mostly anything    ...\n",
       "drinks                      drinks\n",
       "socially      41780\n",
       "rarely...\n",
       "drugs                     drugs\n",
       "never      37724\n",
       "sometimes   ...\n",
       "education                                         education\n",
       "g...\n",
       "ethnicity                                                    ...\n",
       "height               height\n",
       "70.0    6074\n",
       "68.0    5449\n",
       "67.0   ...\n",
       "income                   income\n",
       "-1         48442\n",
       " 20000      ...\n",
       "job                                                job\n",
       "other ...\n",
       "last_online                      last_online\n",
       "2012-06-29-22-56...\n",
       "location                                       location\n",
       "san f...\n",
       "offspring                                               offsp...\n",
       "pets                                             pets\n",
       "likes d...\n",
       "religion                                                   re...\n",
       "sign                                                         ...\n",
       "smokes                         smokes\n",
       "no               43896\n",
       "...\n",
       "speaks                                                       ...\n",
       "essay0                                                       ...\n",
       "essay1                                                       ...\n",
       "essay2                                                       ...\n",
       "essay3                                                       ...\n",
       "essay4                                                       ...\n",
       "essay5                                                       ...\n",
       "essay6                                                       ...\n",
       "essay7                                                       ...\n",
       "essay8                                                       ...\n",
       "essay9                                                       ...\n",
       "dtype: object"
      ]
     },
     "execution_count": 52,
     "metadata": {},
     "output_type": "execute_result"
    }
   ],
   "source": [
    "# Accounting for number of unique types of each categorical columns\n",
    "# This unq_val_count Series will be used for String look up through <essayX> columns\n",
    "unq_val_count={c:pd.DataFrame(cupid_df[c].value_counts()) for c in cupid_df.columns}\n",
    "unq_val_count = pd.Series(unq_val_count)\n",
    "unq_val_count"
   ]
  },
  {
   "cell_type": "code",
   "execution_count": 64,
   "metadata": {},
   "outputs": [
    {
     "name": "stderr",
     "output_type": "stream",
     "text": [
      "/opt/anaconda3/lib/python3.9/site-packages/plotly/express/_core.py:1637: FutureWarning:\n",
      "\n",
      "The frame.append method is deprecated and will be removed from pandas in a future version. Use pandas.concat instead.\n",
      "\n"
     ]
    },
    {
     "data": {
      "application/vnd.plotly.v1+json": {
       "config": {
        "plotlyServerURL": "https://plot.ly"
       },
       "data": [
        {
         "branchvalues": "total",
         "customdata": [
          86.09,
          9.3,
          4.62
         ],
         "domain": {
          "x": [
           0,
           1
          ],
          "y": [
           0,
           1
          ]
         },
         "hovertemplate": "labels=%{label}<br>value=%{value}<br>parent=%{parent}<br>id=%{id}<br>index=%{customdata[0]}<extra></extra>",
         "ids": [
          "straight",
          "gay",
          "bisexual"
         ],
         "labels": [
          "straight",
          "gay",
          "bisexual"
         ],
         "marker": {
          "colors": [
           "rgb(255,247,251)",
           "rgb(236,226,240)",
           "rgb(208,209,230)"
          ]
         },
         "name": "",
         "parents": [
          "",
          "",
          ""
         ],
         "texttemplate": "%{label}<br>%{value}<br>%{customdata}%",
         "type": "treemap",
         "values": [
          51606,
          5573,
          2767
         ]
        }
       ],
       "layout": {
        "font": {
         "family": "Franklin Gothic",
         "size": 19
        },
        "height": 500,
        "legend": {
         "tracegroupgap": 0
        },
        "template": {
         "data": {
          "bar": [
           {
            "error_x": {
             "color": "#f2f5fa"
            },
            "error_y": {
             "color": "#f2f5fa"
            },
            "marker": {
             "line": {
              "color": "rgb(17,17,17)",
              "width": 0.5
             },
             "pattern": {
              "fillmode": "overlay",
              "size": 10,
              "solidity": 0.2
             }
            },
            "type": "bar"
           }
          ],
          "barpolar": [
           {
            "marker": {
             "line": {
              "color": "rgb(17,17,17)",
              "width": 0.5
             },
             "pattern": {
              "fillmode": "overlay",
              "size": 10,
              "solidity": 0.2
             }
            },
            "type": "barpolar"
           }
          ],
          "carpet": [
           {
            "aaxis": {
             "endlinecolor": "#A2B1C6",
             "gridcolor": "#506784",
             "linecolor": "#506784",
             "minorgridcolor": "#506784",
             "startlinecolor": "#A2B1C6"
            },
            "baxis": {
             "endlinecolor": "#A2B1C6",
             "gridcolor": "#506784",
             "linecolor": "#506784",
             "minorgridcolor": "#506784",
             "startlinecolor": "#A2B1C6"
            },
            "type": "carpet"
           }
          ],
          "choropleth": [
           {
            "colorbar": {
             "outlinewidth": 0,
             "ticks": ""
            },
            "type": "choropleth"
           }
          ],
          "contour": [
           {
            "colorbar": {
             "outlinewidth": 0,
             "ticks": ""
            },
            "colorscale": [
             [
              0,
              "#0d0887"
             ],
             [
              0.1111111111111111,
              "#46039f"
             ],
             [
              0.2222222222222222,
              "#7201a8"
             ],
             [
              0.3333333333333333,
              "#9c179e"
             ],
             [
              0.4444444444444444,
              "#bd3786"
             ],
             [
              0.5555555555555556,
              "#d8576b"
             ],
             [
              0.6666666666666666,
              "#ed7953"
             ],
             [
              0.7777777777777778,
              "#fb9f3a"
             ],
             [
              0.8888888888888888,
              "#fdca26"
             ],
             [
              1,
              "#f0f921"
             ]
            ],
            "type": "contour"
           }
          ],
          "contourcarpet": [
           {
            "colorbar": {
             "outlinewidth": 0,
             "ticks": ""
            },
            "type": "contourcarpet"
           }
          ],
          "heatmap": [
           {
            "colorbar": {
             "outlinewidth": 0,
             "ticks": ""
            },
            "colorscale": [
             [
              0,
              "#0d0887"
             ],
             [
              0.1111111111111111,
              "#46039f"
             ],
             [
              0.2222222222222222,
              "#7201a8"
             ],
             [
              0.3333333333333333,
              "#9c179e"
             ],
             [
              0.4444444444444444,
              "#bd3786"
             ],
             [
              0.5555555555555556,
              "#d8576b"
             ],
             [
              0.6666666666666666,
              "#ed7953"
             ],
             [
              0.7777777777777778,
              "#fb9f3a"
             ],
             [
              0.8888888888888888,
              "#fdca26"
             ],
             [
              1,
              "#f0f921"
             ]
            ],
            "type": "heatmap"
           }
          ],
          "heatmapgl": [
           {
            "colorbar": {
             "outlinewidth": 0,
             "ticks": ""
            },
            "colorscale": [
             [
              0,
              "#0d0887"
             ],
             [
              0.1111111111111111,
              "#46039f"
             ],
             [
              0.2222222222222222,
              "#7201a8"
             ],
             [
              0.3333333333333333,
              "#9c179e"
             ],
             [
              0.4444444444444444,
              "#bd3786"
             ],
             [
              0.5555555555555556,
              "#d8576b"
             ],
             [
              0.6666666666666666,
              "#ed7953"
             ],
             [
              0.7777777777777778,
              "#fb9f3a"
             ],
             [
              0.8888888888888888,
              "#fdca26"
             ],
             [
              1,
              "#f0f921"
             ]
            ],
            "type": "heatmapgl"
           }
          ],
          "histogram": [
           {
            "marker": {
             "pattern": {
              "fillmode": "overlay",
              "size": 10,
              "solidity": 0.2
             }
            },
            "type": "histogram"
           }
          ],
          "histogram2d": [
           {
            "colorbar": {
             "outlinewidth": 0,
             "ticks": ""
            },
            "colorscale": [
             [
              0,
              "#0d0887"
             ],
             [
              0.1111111111111111,
              "#46039f"
             ],
             [
              0.2222222222222222,
              "#7201a8"
             ],
             [
              0.3333333333333333,
              "#9c179e"
             ],
             [
              0.4444444444444444,
              "#bd3786"
             ],
             [
              0.5555555555555556,
              "#d8576b"
             ],
             [
              0.6666666666666666,
              "#ed7953"
             ],
             [
              0.7777777777777778,
              "#fb9f3a"
             ],
             [
              0.8888888888888888,
              "#fdca26"
             ],
             [
              1,
              "#f0f921"
             ]
            ],
            "type": "histogram2d"
           }
          ],
          "histogram2dcontour": [
           {
            "colorbar": {
             "outlinewidth": 0,
             "ticks": ""
            },
            "colorscale": [
             [
              0,
              "#0d0887"
             ],
             [
              0.1111111111111111,
              "#46039f"
             ],
             [
              0.2222222222222222,
              "#7201a8"
             ],
             [
              0.3333333333333333,
              "#9c179e"
             ],
             [
              0.4444444444444444,
              "#bd3786"
             ],
             [
              0.5555555555555556,
              "#d8576b"
             ],
             [
              0.6666666666666666,
              "#ed7953"
             ],
             [
              0.7777777777777778,
              "#fb9f3a"
             ],
             [
              0.8888888888888888,
              "#fdca26"
             ],
             [
              1,
              "#f0f921"
             ]
            ],
            "type": "histogram2dcontour"
           }
          ],
          "mesh3d": [
           {
            "colorbar": {
             "outlinewidth": 0,
             "ticks": ""
            },
            "type": "mesh3d"
           }
          ],
          "parcoords": [
           {
            "line": {
             "colorbar": {
              "outlinewidth": 0,
              "ticks": ""
             }
            },
            "type": "parcoords"
           }
          ],
          "pie": [
           {
            "automargin": true,
            "type": "pie"
           }
          ],
          "scatter": [
           {
            "marker": {
             "line": {
              "color": "#283442"
             }
            },
            "type": "scatter"
           }
          ],
          "scatter3d": [
           {
            "line": {
             "colorbar": {
              "outlinewidth": 0,
              "ticks": ""
             }
            },
            "marker": {
             "colorbar": {
              "outlinewidth": 0,
              "ticks": ""
             }
            },
            "type": "scatter3d"
           }
          ],
          "scattercarpet": [
           {
            "marker": {
             "colorbar": {
              "outlinewidth": 0,
              "ticks": ""
             }
            },
            "type": "scattercarpet"
           }
          ],
          "scattergeo": [
           {
            "marker": {
             "colorbar": {
              "outlinewidth": 0,
              "ticks": ""
             }
            },
            "type": "scattergeo"
           }
          ],
          "scattergl": [
           {
            "marker": {
             "line": {
              "color": "#283442"
             }
            },
            "type": "scattergl"
           }
          ],
          "scattermapbox": [
           {
            "marker": {
             "colorbar": {
              "outlinewidth": 0,
              "ticks": ""
             }
            },
            "type": "scattermapbox"
           }
          ],
          "scatterpolar": [
           {
            "marker": {
             "colorbar": {
              "outlinewidth": 0,
              "ticks": ""
             }
            },
            "type": "scatterpolar"
           }
          ],
          "scatterpolargl": [
           {
            "marker": {
             "colorbar": {
              "outlinewidth": 0,
              "ticks": ""
             }
            },
            "type": "scatterpolargl"
           }
          ],
          "scatterternary": [
           {
            "marker": {
             "colorbar": {
              "outlinewidth": 0,
              "ticks": ""
             }
            },
            "type": "scatterternary"
           }
          ],
          "surface": [
           {
            "colorbar": {
             "outlinewidth": 0,
             "ticks": ""
            },
            "colorscale": [
             [
              0,
              "#0d0887"
             ],
             [
              0.1111111111111111,
              "#46039f"
             ],
             [
              0.2222222222222222,
              "#7201a8"
             ],
             [
              0.3333333333333333,
              "#9c179e"
             ],
             [
              0.4444444444444444,
              "#bd3786"
             ],
             [
              0.5555555555555556,
              "#d8576b"
             ],
             [
              0.6666666666666666,
              "#ed7953"
             ],
             [
              0.7777777777777778,
              "#fb9f3a"
             ],
             [
              0.8888888888888888,
              "#fdca26"
             ],
             [
              1,
              "#f0f921"
             ]
            ],
            "type": "surface"
           }
          ],
          "table": [
           {
            "cells": {
             "fill": {
              "color": "#506784"
             },
             "line": {
              "color": "rgb(17,17,17)"
             }
            },
            "header": {
             "fill": {
              "color": "#2a3f5f"
             },
             "line": {
              "color": "rgb(17,17,17)"
             }
            },
            "type": "table"
           }
          ]
         },
         "layout": {
          "annotationdefaults": {
           "arrowcolor": "#f2f5fa",
           "arrowhead": 0,
           "arrowwidth": 1
          },
          "autotypenumbers": "strict",
          "coloraxis": {
           "colorbar": {
            "outlinewidth": 0,
            "ticks": ""
           }
          },
          "colorscale": {
           "diverging": [
            [
             0,
             "#8e0152"
            ],
            [
             0.1,
             "#c51b7d"
            ],
            [
             0.2,
             "#de77ae"
            ],
            [
             0.3,
             "#f1b6da"
            ],
            [
             0.4,
             "#fde0ef"
            ],
            [
             0.5,
             "#f7f7f7"
            ],
            [
             0.6,
             "#e6f5d0"
            ],
            [
             0.7,
             "#b8e186"
            ],
            [
             0.8,
             "#7fbc41"
            ],
            [
             0.9,
             "#4d9221"
            ],
            [
             1,
             "#276419"
            ]
           ],
           "sequential": [
            [
             0,
             "#0d0887"
            ],
            [
             0.1111111111111111,
             "#46039f"
            ],
            [
             0.2222222222222222,
             "#7201a8"
            ],
            [
             0.3333333333333333,
             "#9c179e"
            ],
            [
             0.4444444444444444,
             "#bd3786"
            ],
            [
             0.5555555555555556,
             "#d8576b"
            ],
            [
             0.6666666666666666,
             "#ed7953"
            ],
            [
             0.7777777777777778,
             "#fb9f3a"
            ],
            [
             0.8888888888888888,
             "#fdca26"
            ],
            [
             1,
             "#f0f921"
            ]
           ],
           "sequentialminus": [
            [
             0,
             "#0d0887"
            ],
            [
             0.1111111111111111,
             "#46039f"
            ],
            [
             0.2222222222222222,
             "#7201a8"
            ],
            [
             0.3333333333333333,
             "#9c179e"
            ],
            [
             0.4444444444444444,
             "#bd3786"
            ],
            [
             0.5555555555555556,
             "#d8576b"
            ],
            [
             0.6666666666666666,
             "#ed7953"
            ],
            [
             0.7777777777777778,
             "#fb9f3a"
            ],
            [
             0.8888888888888888,
             "#fdca26"
            ],
            [
             1,
             "#f0f921"
            ]
           ]
          },
          "colorway": [
           "#636efa",
           "#EF553B",
           "#00cc96",
           "#ab63fa",
           "#FFA15A",
           "#19d3f3",
           "#FF6692",
           "#B6E880",
           "#FF97FF",
           "#FECB52"
          ],
          "font": {
           "color": "#f2f5fa"
          },
          "geo": {
           "bgcolor": "rgb(17,17,17)",
           "lakecolor": "rgb(17,17,17)",
           "landcolor": "rgb(17,17,17)",
           "showlakes": true,
           "showland": true,
           "subunitcolor": "#506784"
          },
          "hoverlabel": {
           "align": "left"
          },
          "hovermode": "closest",
          "mapbox": {
           "style": "dark"
          },
          "paper_bgcolor": "rgb(17,17,17)",
          "plot_bgcolor": "rgb(17,17,17)",
          "polar": {
           "angularaxis": {
            "gridcolor": "#506784",
            "linecolor": "#506784",
            "ticks": ""
           },
           "bgcolor": "rgb(17,17,17)",
           "radialaxis": {
            "gridcolor": "#506784",
            "linecolor": "#506784",
            "ticks": ""
           }
          },
          "scene": {
           "xaxis": {
            "backgroundcolor": "rgb(17,17,17)",
            "gridcolor": "#506784",
            "gridwidth": 2,
            "linecolor": "#506784",
            "showbackground": true,
            "ticks": "",
            "zerolinecolor": "#C8D4E3"
           },
           "yaxis": {
            "backgroundcolor": "rgb(17,17,17)",
            "gridcolor": "#506784",
            "gridwidth": 2,
            "linecolor": "#506784",
            "showbackground": true,
            "ticks": "",
            "zerolinecolor": "#C8D4E3"
           },
           "zaxis": {
            "backgroundcolor": "rgb(17,17,17)",
            "gridcolor": "#506784",
            "gridwidth": 2,
            "linecolor": "#506784",
            "showbackground": true,
            "ticks": "",
            "zerolinecolor": "#C8D4E3"
           }
          },
          "shapedefaults": {
           "line": {
            "color": "#f2f5fa"
           }
          },
          "sliderdefaults": {
           "bgcolor": "#C8D4E3",
           "bordercolor": "rgb(17,17,17)",
           "borderwidth": 1,
           "tickwidth": 0
          },
          "ternary": {
           "aaxis": {
            "gridcolor": "#506784",
            "linecolor": "#506784",
            "ticks": ""
           },
           "baxis": {
            "gridcolor": "#506784",
            "linecolor": "#506784",
            "ticks": ""
           },
           "bgcolor": "rgb(17,17,17)",
           "caxis": {
            "gridcolor": "#506784",
            "linecolor": "#506784",
            "ticks": ""
           }
          },
          "title": {
           "x": 0.05
          },
          "updatemenudefaults": {
           "bgcolor": "#506784",
           "borderwidth": 0
          },
          "xaxis": {
           "automargin": true,
           "gridcolor": "#283442",
           "linecolor": "#506784",
           "ticks": "",
           "title": {
            "standoff": 15
           },
           "zerolinecolor": "#283442",
           "zerolinewidth": 2
          },
          "yaxis": {
           "automargin": true,
           "gridcolor": "#283442",
           "linecolor": "#506784",
           "ticks": "",
           "title": {
            "standoff": 15
           },
           "zerolinecolor": "#283442",
           "zerolinewidth": 2
          }
         }
        },
        "title": {
         "text": "Orientation distribution"
        },
        "treemapcolorway": [
         "rgb(255,247,251)",
         "rgb(236,226,240)",
         "rgb(208,209,230)",
         "rgb(166,189,219)",
         "rgb(103,169,207)",
         "rgb(54,144,192)",
         "rgb(2,129,138)",
         "rgb(1,108,89)",
         "rgb(1,70,54)"
        ],
        "width": 1000
       }
      }
     },
     "metadata": {},
     "output_type": "display_data"
    }
   ],
   "source": [
    "# age               54, sex                2, drinks             6, drugs              3, education         32, ethnicity        217\n",
    "\n",
    "orientation_df = cupid_df['orientation'].value_counts()\n",
    "fig=px.treemap(orientation_df,\n",
    "               path=[orientation_df.index],\n",
    "               values=orientation_df.values,\n",
    "               title=\"Orientation distribution\",\n",
    "               color=orientation_df.index,\n",
    "               color_discrete_sequence=px.colors.sequential.PuBuGn,\n",
    "               template='plotly_dark',\n",
    "               width=1000, height=500\n",
    "              )\n",
    "percents = np.round((100*orientation_df.values / sum(orientation_df.values)).tolist(),2)\n",
    "fig.data[0].customdata = [percents[0],percents[1],percents[2]]\n",
    "fig.data[0].texttemplate = '%{label}<br>%{value}<br>%{customdata}%'\n",
    "fig.update_layout(font=dict(size=19,family=\"Franklin Gothic\"))\n",
    "\n",
    "fig.show()"
   ]
  },
  {
   "cell_type": "code",
   "execution_count": 62,
   "metadata": {},
   "outputs": [
    {
     "name": "stderr",
     "output_type": "stream",
     "text": [
      "/opt/anaconda3/lib/python3.9/site-packages/plotly/express/_core.py:1637: FutureWarning:\n",
      "\n",
      "The frame.append method is deprecated and will be removed from pandas in a future version. Use pandas.concat instead.\n",
      "\n"
     ]
    },
    {
     "data": {
      "application/vnd.plotly.v1+json": {
       "config": {
        "plotlyServerURL": "https://plot.ly"
       },
       "data": [
        {
         "branchvalues": "total",
         "customdata": [
          59.77,
          40.23
         ],
         "domain": {
          "x": [
           0,
           1
          ],
          "y": [
           0,
           1
          ]
         },
         "hovertemplate": "labels=%{label}<br>value=%{value}<br>parent=%{parent}<br>id=%{id}<br>index=%{customdata[0]}<extra></extra>",
         "ids": [
          "m",
          "f"
         ],
         "labels": [
          "m",
          "f"
         ],
         "marker": {
          "colors": [
           "rgb(255,247,251)",
           "rgb(236,226,240)"
          ]
         },
         "name": "",
         "parents": [
          "",
          ""
         ],
         "texttemplate": "%{label}<br>%{value}<br>%{customdata}%",
         "type": "treemap",
         "values": [
          35829,
          24117
         ]
        }
       ],
       "layout": {
        "font": {
         "family": "Franklin Gothic",
         "size": 19
        },
        "height": 500,
        "legend": {
         "tracegroupgap": 0
        },
        "template": {
         "data": {
          "bar": [
           {
            "error_x": {
             "color": "#f2f5fa"
            },
            "error_y": {
             "color": "#f2f5fa"
            },
            "marker": {
             "line": {
              "color": "rgb(17,17,17)",
              "width": 0.5
             },
             "pattern": {
              "fillmode": "overlay",
              "size": 10,
              "solidity": 0.2
             }
            },
            "type": "bar"
           }
          ],
          "barpolar": [
           {
            "marker": {
             "line": {
              "color": "rgb(17,17,17)",
              "width": 0.5
             },
             "pattern": {
              "fillmode": "overlay",
              "size": 10,
              "solidity": 0.2
             }
            },
            "type": "barpolar"
           }
          ],
          "carpet": [
           {
            "aaxis": {
             "endlinecolor": "#A2B1C6",
             "gridcolor": "#506784",
             "linecolor": "#506784",
             "minorgridcolor": "#506784",
             "startlinecolor": "#A2B1C6"
            },
            "baxis": {
             "endlinecolor": "#A2B1C6",
             "gridcolor": "#506784",
             "linecolor": "#506784",
             "minorgridcolor": "#506784",
             "startlinecolor": "#A2B1C6"
            },
            "type": "carpet"
           }
          ],
          "choropleth": [
           {
            "colorbar": {
             "outlinewidth": 0,
             "ticks": ""
            },
            "type": "choropleth"
           }
          ],
          "contour": [
           {
            "colorbar": {
             "outlinewidth": 0,
             "ticks": ""
            },
            "colorscale": [
             [
              0,
              "#0d0887"
             ],
             [
              0.1111111111111111,
              "#46039f"
             ],
             [
              0.2222222222222222,
              "#7201a8"
             ],
             [
              0.3333333333333333,
              "#9c179e"
             ],
             [
              0.4444444444444444,
              "#bd3786"
             ],
             [
              0.5555555555555556,
              "#d8576b"
             ],
             [
              0.6666666666666666,
              "#ed7953"
             ],
             [
              0.7777777777777778,
              "#fb9f3a"
             ],
             [
              0.8888888888888888,
              "#fdca26"
             ],
             [
              1,
              "#f0f921"
             ]
            ],
            "type": "contour"
           }
          ],
          "contourcarpet": [
           {
            "colorbar": {
             "outlinewidth": 0,
             "ticks": ""
            },
            "type": "contourcarpet"
           }
          ],
          "heatmap": [
           {
            "colorbar": {
             "outlinewidth": 0,
             "ticks": ""
            },
            "colorscale": [
             [
              0,
              "#0d0887"
             ],
             [
              0.1111111111111111,
              "#46039f"
             ],
             [
              0.2222222222222222,
              "#7201a8"
             ],
             [
              0.3333333333333333,
              "#9c179e"
             ],
             [
              0.4444444444444444,
              "#bd3786"
             ],
             [
              0.5555555555555556,
              "#d8576b"
             ],
             [
              0.6666666666666666,
              "#ed7953"
             ],
             [
              0.7777777777777778,
              "#fb9f3a"
             ],
             [
              0.8888888888888888,
              "#fdca26"
             ],
             [
              1,
              "#f0f921"
             ]
            ],
            "type": "heatmap"
           }
          ],
          "heatmapgl": [
           {
            "colorbar": {
             "outlinewidth": 0,
             "ticks": ""
            },
            "colorscale": [
             [
              0,
              "#0d0887"
             ],
             [
              0.1111111111111111,
              "#46039f"
             ],
             [
              0.2222222222222222,
              "#7201a8"
             ],
             [
              0.3333333333333333,
              "#9c179e"
             ],
             [
              0.4444444444444444,
              "#bd3786"
             ],
             [
              0.5555555555555556,
              "#d8576b"
             ],
             [
              0.6666666666666666,
              "#ed7953"
             ],
             [
              0.7777777777777778,
              "#fb9f3a"
             ],
             [
              0.8888888888888888,
              "#fdca26"
             ],
             [
              1,
              "#f0f921"
             ]
            ],
            "type": "heatmapgl"
           }
          ],
          "histogram": [
           {
            "marker": {
             "pattern": {
              "fillmode": "overlay",
              "size": 10,
              "solidity": 0.2
             }
            },
            "type": "histogram"
           }
          ],
          "histogram2d": [
           {
            "colorbar": {
             "outlinewidth": 0,
             "ticks": ""
            },
            "colorscale": [
             [
              0,
              "#0d0887"
             ],
             [
              0.1111111111111111,
              "#46039f"
             ],
             [
              0.2222222222222222,
              "#7201a8"
             ],
             [
              0.3333333333333333,
              "#9c179e"
             ],
             [
              0.4444444444444444,
              "#bd3786"
             ],
             [
              0.5555555555555556,
              "#d8576b"
             ],
             [
              0.6666666666666666,
              "#ed7953"
             ],
             [
              0.7777777777777778,
              "#fb9f3a"
             ],
             [
              0.8888888888888888,
              "#fdca26"
             ],
             [
              1,
              "#f0f921"
             ]
            ],
            "type": "histogram2d"
           }
          ],
          "histogram2dcontour": [
           {
            "colorbar": {
             "outlinewidth": 0,
             "ticks": ""
            },
            "colorscale": [
             [
              0,
              "#0d0887"
             ],
             [
              0.1111111111111111,
              "#46039f"
             ],
             [
              0.2222222222222222,
              "#7201a8"
             ],
             [
              0.3333333333333333,
              "#9c179e"
             ],
             [
              0.4444444444444444,
              "#bd3786"
             ],
             [
              0.5555555555555556,
              "#d8576b"
             ],
             [
              0.6666666666666666,
              "#ed7953"
             ],
             [
              0.7777777777777778,
              "#fb9f3a"
             ],
             [
              0.8888888888888888,
              "#fdca26"
             ],
             [
              1,
              "#f0f921"
             ]
            ],
            "type": "histogram2dcontour"
           }
          ],
          "mesh3d": [
           {
            "colorbar": {
             "outlinewidth": 0,
             "ticks": ""
            },
            "type": "mesh3d"
           }
          ],
          "parcoords": [
           {
            "line": {
             "colorbar": {
              "outlinewidth": 0,
              "ticks": ""
             }
            },
            "type": "parcoords"
           }
          ],
          "pie": [
           {
            "automargin": true,
            "type": "pie"
           }
          ],
          "scatter": [
           {
            "marker": {
             "line": {
              "color": "#283442"
             }
            },
            "type": "scatter"
           }
          ],
          "scatter3d": [
           {
            "line": {
             "colorbar": {
              "outlinewidth": 0,
              "ticks": ""
             }
            },
            "marker": {
             "colorbar": {
              "outlinewidth": 0,
              "ticks": ""
             }
            },
            "type": "scatter3d"
           }
          ],
          "scattercarpet": [
           {
            "marker": {
             "colorbar": {
              "outlinewidth": 0,
              "ticks": ""
             }
            },
            "type": "scattercarpet"
           }
          ],
          "scattergeo": [
           {
            "marker": {
             "colorbar": {
              "outlinewidth": 0,
              "ticks": ""
             }
            },
            "type": "scattergeo"
           }
          ],
          "scattergl": [
           {
            "marker": {
             "line": {
              "color": "#283442"
             }
            },
            "type": "scattergl"
           }
          ],
          "scattermapbox": [
           {
            "marker": {
             "colorbar": {
              "outlinewidth": 0,
              "ticks": ""
             }
            },
            "type": "scattermapbox"
           }
          ],
          "scatterpolar": [
           {
            "marker": {
             "colorbar": {
              "outlinewidth": 0,
              "ticks": ""
             }
            },
            "type": "scatterpolar"
           }
          ],
          "scatterpolargl": [
           {
            "marker": {
             "colorbar": {
              "outlinewidth": 0,
              "ticks": ""
             }
            },
            "type": "scatterpolargl"
           }
          ],
          "scatterternary": [
           {
            "marker": {
             "colorbar": {
              "outlinewidth": 0,
              "ticks": ""
             }
            },
            "type": "scatterternary"
           }
          ],
          "surface": [
           {
            "colorbar": {
             "outlinewidth": 0,
             "ticks": ""
            },
            "colorscale": [
             [
              0,
              "#0d0887"
             ],
             [
              0.1111111111111111,
              "#46039f"
             ],
             [
              0.2222222222222222,
              "#7201a8"
             ],
             [
              0.3333333333333333,
              "#9c179e"
             ],
             [
              0.4444444444444444,
              "#bd3786"
             ],
             [
              0.5555555555555556,
              "#d8576b"
             ],
             [
              0.6666666666666666,
              "#ed7953"
             ],
             [
              0.7777777777777778,
              "#fb9f3a"
             ],
             [
              0.8888888888888888,
              "#fdca26"
             ],
             [
              1,
              "#f0f921"
             ]
            ],
            "type": "surface"
           }
          ],
          "table": [
           {
            "cells": {
             "fill": {
              "color": "#506784"
             },
             "line": {
              "color": "rgb(17,17,17)"
             }
            },
            "header": {
             "fill": {
              "color": "#2a3f5f"
             },
             "line": {
              "color": "rgb(17,17,17)"
             }
            },
            "type": "table"
           }
          ]
         },
         "layout": {
          "annotationdefaults": {
           "arrowcolor": "#f2f5fa",
           "arrowhead": 0,
           "arrowwidth": 1
          },
          "autotypenumbers": "strict",
          "coloraxis": {
           "colorbar": {
            "outlinewidth": 0,
            "ticks": ""
           }
          },
          "colorscale": {
           "diverging": [
            [
             0,
             "#8e0152"
            ],
            [
             0.1,
             "#c51b7d"
            ],
            [
             0.2,
             "#de77ae"
            ],
            [
             0.3,
             "#f1b6da"
            ],
            [
             0.4,
             "#fde0ef"
            ],
            [
             0.5,
             "#f7f7f7"
            ],
            [
             0.6,
             "#e6f5d0"
            ],
            [
             0.7,
             "#b8e186"
            ],
            [
             0.8,
             "#7fbc41"
            ],
            [
             0.9,
             "#4d9221"
            ],
            [
             1,
             "#276419"
            ]
           ],
           "sequential": [
            [
             0,
             "#0d0887"
            ],
            [
             0.1111111111111111,
             "#46039f"
            ],
            [
             0.2222222222222222,
             "#7201a8"
            ],
            [
             0.3333333333333333,
             "#9c179e"
            ],
            [
             0.4444444444444444,
             "#bd3786"
            ],
            [
             0.5555555555555556,
             "#d8576b"
            ],
            [
             0.6666666666666666,
             "#ed7953"
            ],
            [
             0.7777777777777778,
             "#fb9f3a"
            ],
            [
             0.8888888888888888,
             "#fdca26"
            ],
            [
             1,
             "#f0f921"
            ]
           ],
           "sequentialminus": [
            [
             0,
             "#0d0887"
            ],
            [
             0.1111111111111111,
             "#46039f"
            ],
            [
             0.2222222222222222,
             "#7201a8"
            ],
            [
             0.3333333333333333,
             "#9c179e"
            ],
            [
             0.4444444444444444,
             "#bd3786"
            ],
            [
             0.5555555555555556,
             "#d8576b"
            ],
            [
             0.6666666666666666,
             "#ed7953"
            ],
            [
             0.7777777777777778,
             "#fb9f3a"
            ],
            [
             0.8888888888888888,
             "#fdca26"
            ],
            [
             1,
             "#f0f921"
            ]
           ]
          },
          "colorway": [
           "#636efa",
           "#EF553B",
           "#00cc96",
           "#ab63fa",
           "#FFA15A",
           "#19d3f3",
           "#FF6692",
           "#B6E880",
           "#FF97FF",
           "#FECB52"
          ],
          "font": {
           "color": "#f2f5fa"
          },
          "geo": {
           "bgcolor": "rgb(17,17,17)",
           "lakecolor": "rgb(17,17,17)",
           "landcolor": "rgb(17,17,17)",
           "showlakes": true,
           "showland": true,
           "subunitcolor": "#506784"
          },
          "hoverlabel": {
           "align": "left"
          },
          "hovermode": "closest",
          "mapbox": {
           "style": "dark"
          },
          "paper_bgcolor": "rgb(17,17,17)",
          "plot_bgcolor": "rgb(17,17,17)",
          "polar": {
           "angularaxis": {
            "gridcolor": "#506784",
            "linecolor": "#506784",
            "ticks": ""
           },
           "bgcolor": "rgb(17,17,17)",
           "radialaxis": {
            "gridcolor": "#506784",
            "linecolor": "#506784",
            "ticks": ""
           }
          },
          "scene": {
           "xaxis": {
            "backgroundcolor": "rgb(17,17,17)",
            "gridcolor": "#506784",
            "gridwidth": 2,
            "linecolor": "#506784",
            "showbackground": true,
            "ticks": "",
            "zerolinecolor": "#C8D4E3"
           },
           "yaxis": {
            "backgroundcolor": "rgb(17,17,17)",
            "gridcolor": "#506784",
            "gridwidth": 2,
            "linecolor": "#506784",
            "showbackground": true,
            "ticks": "",
            "zerolinecolor": "#C8D4E3"
           },
           "zaxis": {
            "backgroundcolor": "rgb(17,17,17)",
            "gridcolor": "#506784",
            "gridwidth": 2,
            "linecolor": "#506784",
            "showbackground": true,
            "ticks": "",
            "zerolinecolor": "#C8D4E3"
           }
          },
          "shapedefaults": {
           "line": {
            "color": "#f2f5fa"
           }
          },
          "sliderdefaults": {
           "bgcolor": "#C8D4E3",
           "bordercolor": "rgb(17,17,17)",
           "borderwidth": 1,
           "tickwidth": 0
          },
          "ternary": {
           "aaxis": {
            "gridcolor": "#506784",
            "linecolor": "#506784",
            "ticks": ""
           },
           "baxis": {
            "gridcolor": "#506784",
            "linecolor": "#506784",
            "ticks": ""
           },
           "bgcolor": "rgb(17,17,17)",
           "caxis": {
            "gridcolor": "#506784",
            "linecolor": "#506784",
            "ticks": ""
           }
          },
          "title": {
           "x": 0.05
          },
          "updatemenudefaults": {
           "bgcolor": "#506784",
           "borderwidth": 0
          },
          "xaxis": {
           "automargin": true,
           "gridcolor": "#283442",
           "linecolor": "#506784",
           "ticks": "",
           "title": {
            "standoff": 15
           },
           "zerolinecolor": "#283442",
           "zerolinewidth": 2
          },
          "yaxis": {
           "automargin": true,
           "gridcolor": "#283442",
           "linecolor": "#506784",
           "ticks": "",
           "title": {
            "standoff": 15
           },
           "zerolinecolor": "#283442",
           "zerolinewidth": 2
          }
         }
        },
        "title": {
         "text": "Gender distribution"
        },
        "treemapcolorway": [
         "rgb(255,247,251)",
         "rgb(236,226,240)",
         "rgb(208,209,230)",
         "rgb(166,189,219)",
         "rgb(103,169,207)",
         "rgb(54,144,192)",
         "rgb(2,129,138)",
         "rgb(1,108,89)",
         "rgb(1,70,54)"
        ],
        "width": 1000
       }
      }
     },
     "metadata": {},
     "output_type": "display_data"
    }
   ],
   "source": [
    "# age               54, sex                2, drinks             6, drugs              3, education         32, ethnicity        217\n",
    "\n",
    "gender_df = cupid_df['sex'].value_counts()\n",
    "fig=px.treemap(gender_df,\n",
    "               path=[gender_df.index],\n",
    "               values=gender_df.values,\n",
    "               title=\"Gender distribution\",\n",
    "               color=gender_df.index,\n",
    "               color_discrete_sequence=px.colors.sequential.PuBuGn,\n",
    "               template='plotly_dark',\n",
    "               width=1000, height=500\n",
    "              )\n",
    "\n",
    "percents = np.round((100*gender_df.values / sum(gender_df.values)).tolist(),2)\n",
    "fig.data[0].customdata = [percents[0],percents[1]]\n",
    "fig.data[0].texttemplate = '%{label}<br>%{value}<br>%{customdata}%'\n",
    "fig.update_layout(font=dict(size=19,family=\"Franklin Gothic\"))\n",
    "fig.show()"
   ]
  },
  {
   "cell_type": "code",
   "execution_count": 68,
   "metadata": {},
   "outputs": [
    {
     "name": "stderr",
     "output_type": "stream",
     "text": [
      "/opt/anaconda3/lib/python3.9/site-packages/plotly/express/_core.py:1637: FutureWarning:\n",
      "\n",
      "The frame.append method is deprecated and will be removed from pandas in a future version. Use pandas.concat instead.\n",
      "\n"
     ]
    },
    {
     "data": {
      "application/vnd.plotly.v1+json": {
       "config": {
        "plotlyServerURL": "https://plot.ly"
       },
       "data": [
        {
         "branchvalues": "total",
         "customdata": [
          6.21,
          6.15,
          5.98,
          5.89,
          5.5,
          5.41,
          5.25,
          4.56,
          4.32,
          4.32,
          3.68,
          3.23,
          3.17,
          2.93,
          2.64,
          2.38,
          2.22,
          2.14,
          1.96,
          1.79,
          1.72,
          1.63,
          1.59,
          1.43,
          1.18,
          1.07,
          1.02,
          0.96,
          0.88,
          0.8,
          0.77,
          0.73,
          0.58,
          0.57,
          0.52,
          0.45,
          0.45,
          0.44,
          0.43,
          0.42,
          0.37,
          0.33,
          0.33,
          0.29,
          0.28,
          0.23,
          0.19,
          0.18,
          0.18,
          0.11,
          0.1,
          0.05,
          0,
          0
         ],
         "domain": {
          "x": [
           0,
           1
          ],
          "y": [
           0,
           1
          ]
         },
         "hovertemplate": "labels=%{label}<br>value=%{value}<br>parent=%{parent}<br>id=%{id}<br>index=%{color}<extra></extra>",
         "ids": [
          "18",
          "19",
          "20",
          "21",
          "22",
          "23",
          "24",
          "25",
          "26",
          "27",
          "28",
          "29",
          "30",
          "31",
          "32",
          "33",
          "34",
          "35",
          "36",
          "37",
          "38",
          "39",
          "40",
          "41",
          "42",
          "43",
          "44",
          "45",
          "46",
          "47",
          "48",
          "49",
          "50",
          "51",
          "52",
          "53",
          "54",
          "55",
          "56",
          "57",
          "58",
          "59",
          "60",
          "61",
          "62",
          "63",
          "64",
          "65",
          "66",
          "67",
          "68",
          "69",
          "109",
          "110"
         ],
         "labels": [
          "18",
          "19",
          "20",
          "21",
          "22",
          "23",
          "24",
          "25",
          "26",
          "27",
          "28",
          "29",
          "30",
          "31",
          "32",
          "33",
          "34",
          "35",
          "36",
          "37",
          "38",
          "39",
          "40",
          "41",
          "42",
          "43",
          "44",
          "45",
          "46",
          "47",
          "48",
          "49",
          "50",
          "51",
          "52",
          "53",
          "54",
          "55",
          "56",
          "57",
          "58",
          "59",
          "60",
          "61",
          "62",
          "63",
          "64",
          "65",
          "66",
          "67",
          "68",
          "69",
          "109",
          "110"
         ],
         "marker": {
          "coloraxis": "coloraxis",
          "colors": [
           18,
           19,
           20,
           21,
           22,
           23,
           24,
           25,
           26,
           27,
           28,
           29,
           30,
           31,
           32,
           33,
           34,
           35,
           36,
           37,
           38,
           39,
           40,
           41,
           42,
           43,
           44,
           45,
           46,
           47,
           48,
           49,
           50,
           51,
           52,
           53,
           54,
           55,
           56,
           57,
           58,
           59,
           60,
           61,
           62,
           63,
           64,
           65,
           66,
           67,
           68,
           69,
           109,
           110
          ]
         },
         "name": "",
         "parents": [
          "",
          "",
          "",
          "",
          "",
          "",
          "",
          "",
          "",
          "",
          "",
          "",
          "",
          "",
          "",
          "",
          "",
          "",
          "",
          "",
          "",
          "",
          "",
          "",
          "",
          "",
          "",
          "",
          "",
          "",
          "",
          "",
          "",
          "",
          "",
          "",
          "",
          "",
          "",
          "",
          "",
          "",
          "",
          "",
          "",
          "",
          "",
          "",
          "",
          "",
          "",
          "",
          "",
          ""
         ],
         "texttemplate": "%{label}<br>%{value}<br>%{customdata}%",
         "type": "treemap",
         "values": [
          309,
          611,
          953,
          1282,
          1934,
          2592,
          3242,
          3531,
          3724,
          3685,
          3583,
          3295,
          3149,
          2735,
          2587,
          2206,
          1902,
          1755,
          1583,
          1427,
          1330,
          1172,
          1030,
          980,
          1072,
          858,
          708,
          643,
          578,
          529,
          481,
          459,
          437,
          350,
          344,
          252,
          267,
          265,
          271,
          256,
          197,
          221,
          195,
          176,
          167,
          138,
          113,
          109,
          105,
          66,
          59,
          31,
          1,
          1
         ]
        }
       ],
       "layout": {
        "coloraxis": {
         "colorbar": {
          "title": {
           "text": "index"
          }
         },
         "colorscale": [
          [
           0,
           "#0d0887"
          ],
          [
           0.1111111111111111,
           "#46039f"
          ],
          [
           0.2222222222222222,
           "#7201a8"
          ],
          [
           0.3333333333333333,
           "#9c179e"
          ],
          [
           0.4444444444444444,
           "#bd3786"
          ],
          [
           0.5555555555555556,
           "#d8576b"
          ],
          [
           0.6666666666666666,
           "#ed7953"
          ],
          [
           0.7777777777777778,
           "#fb9f3a"
          ],
          [
           0.8888888888888888,
           "#fdca26"
          ],
          [
           1,
           "#f0f921"
          ]
         ]
        },
        "font": {
         "family": "Franklin Gothic",
         "size": 19
        },
        "height": 500,
        "legend": {
         "tracegroupgap": 0
        },
        "template": {
         "data": {
          "bar": [
           {
            "error_x": {
             "color": "#f2f5fa"
            },
            "error_y": {
             "color": "#f2f5fa"
            },
            "marker": {
             "line": {
              "color": "rgb(17,17,17)",
              "width": 0.5
             },
             "pattern": {
              "fillmode": "overlay",
              "size": 10,
              "solidity": 0.2
             }
            },
            "type": "bar"
           }
          ],
          "barpolar": [
           {
            "marker": {
             "line": {
              "color": "rgb(17,17,17)",
              "width": 0.5
             },
             "pattern": {
              "fillmode": "overlay",
              "size": 10,
              "solidity": 0.2
             }
            },
            "type": "barpolar"
           }
          ],
          "carpet": [
           {
            "aaxis": {
             "endlinecolor": "#A2B1C6",
             "gridcolor": "#506784",
             "linecolor": "#506784",
             "minorgridcolor": "#506784",
             "startlinecolor": "#A2B1C6"
            },
            "baxis": {
             "endlinecolor": "#A2B1C6",
             "gridcolor": "#506784",
             "linecolor": "#506784",
             "minorgridcolor": "#506784",
             "startlinecolor": "#A2B1C6"
            },
            "type": "carpet"
           }
          ],
          "choropleth": [
           {
            "colorbar": {
             "outlinewidth": 0,
             "ticks": ""
            },
            "type": "choropleth"
           }
          ],
          "contour": [
           {
            "colorbar": {
             "outlinewidth": 0,
             "ticks": ""
            },
            "colorscale": [
             [
              0,
              "#0d0887"
             ],
             [
              0.1111111111111111,
              "#46039f"
             ],
             [
              0.2222222222222222,
              "#7201a8"
             ],
             [
              0.3333333333333333,
              "#9c179e"
             ],
             [
              0.4444444444444444,
              "#bd3786"
             ],
             [
              0.5555555555555556,
              "#d8576b"
             ],
             [
              0.6666666666666666,
              "#ed7953"
             ],
             [
              0.7777777777777778,
              "#fb9f3a"
             ],
             [
              0.8888888888888888,
              "#fdca26"
             ],
             [
              1,
              "#f0f921"
             ]
            ],
            "type": "contour"
           }
          ],
          "contourcarpet": [
           {
            "colorbar": {
             "outlinewidth": 0,
             "ticks": ""
            },
            "type": "contourcarpet"
           }
          ],
          "heatmap": [
           {
            "colorbar": {
             "outlinewidth": 0,
             "ticks": ""
            },
            "colorscale": [
             [
              0,
              "#0d0887"
             ],
             [
              0.1111111111111111,
              "#46039f"
             ],
             [
              0.2222222222222222,
              "#7201a8"
             ],
             [
              0.3333333333333333,
              "#9c179e"
             ],
             [
              0.4444444444444444,
              "#bd3786"
             ],
             [
              0.5555555555555556,
              "#d8576b"
             ],
             [
              0.6666666666666666,
              "#ed7953"
             ],
             [
              0.7777777777777778,
              "#fb9f3a"
             ],
             [
              0.8888888888888888,
              "#fdca26"
             ],
             [
              1,
              "#f0f921"
             ]
            ],
            "type": "heatmap"
           }
          ],
          "heatmapgl": [
           {
            "colorbar": {
             "outlinewidth": 0,
             "ticks": ""
            },
            "colorscale": [
             [
              0,
              "#0d0887"
             ],
             [
              0.1111111111111111,
              "#46039f"
             ],
             [
              0.2222222222222222,
              "#7201a8"
             ],
             [
              0.3333333333333333,
              "#9c179e"
             ],
             [
              0.4444444444444444,
              "#bd3786"
             ],
             [
              0.5555555555555556,
              "#d8576b"
             ],
             [
              0.6666666666666666,
              "#ed7953"
             ],
             [
              0.7777777777777778,
              "#fb9f3a"
             ],
             [
              0.8888888888888888,
              "#fdca26"
             ],
             [
              1,
              "#f0f921"
             ]
            ],
            "type": "heatmapgl"
           }
          ],
          "histogram": [
           {
            "marker": {
             "pattern": {
              "fillmode": "overlay",
              "size": 10,
              "solidity": 0.2
             }
            },
            "type": "histogram"
           }
          ],
          "histogram2d": [
           {
            "colorbar": {
             "outlinewidth": 0,
             "ticks": ""
            },
            "colorscale": [
             [
              0,
              "#0d0887"
             ],
             [
              0.1111111111111111,
              "#46039f"
             ],
             [
              0.2222222222222222,
              "#7201a8"
             ],
             [
              0.3333333333333333,
              "#9c179e"
             ],
             [
              0.4444444444444444,
              "#bd3786"
             ],
             [
              0.5555555555555556,
              "#d8576b"
             ],
             [
              0.6666666666666666,
              "#ed7953"
             ],
             [
              0.7777777777777778,
              "#fb9f3a"
             ],
             [
              0.8888888888888888,
              "#fdca26"
             ],
             [
              1,
              "#f0f921"
             ]
            ],
            "type": "histogram2d"
           }
          ],
          "histogram2dcontour": [
           {
            "colorbar": {
             "outlinewidth": 0,
             "ticks": ""
            },
            "colorscale": [
             [
              0,
              "#0d0887"
             ],
             [
              0.1111111111111111,
              "#46039f"
             ],
             [
              0.2222222222222222,
              "#7201a8"
             ],
             [
              0.3333333333333333,
              "#9c179e"
             ],
             [
              0.4444444444444444,
              "#bd3786"
             ],
             [
              0.5555555555555556,
              "#d8576b"
             ],
             [
              0.6666666666666666,
              "#ed7953"
             ],
             [
              0.7777777777777778,
              "#fb9f3a"
             ],
             [
              0.8888888888888888,
              "#fdca26"
             ],
             [
              1,
              "#f0f921"
             ]
            ],
            "type": "histogram2dcontour"
           }
          ],
          "mesh3d": [
           {
            "colorbar": {
             "outlinewidth": 0,
             "ticks": ""
            },
            "type": "mesh3d"
           }
          ],
          "parcoords": [
           {
            "line": {
             "colorbar": {
              "outlinewidth": 0,
              "ticks": ""
             }
            },
            "type": "parcoords"
           }
          ],
          "pie": [
           {
            "automargin": true,
            "type": "pie"
           }
          ],
          "scatter": [
           {
            "marker": {
             "line": {
              "color": "#283442"
             }
            },
            "type": "scatter"
           }
          ],
          "scatter3d": [
           {
            "line": {
             "colorbar": {
              "outlinewidth": 0,
              "ticks": ""
             }
            },
            "marker": {
             "colorbar": {
              "outlinewidth": 0,
              "ticks": ""
             }
            },
            "type": "scatter3d"
           }
          ],
          "scattercarpet": [
           {
            "marker": {
             "colorbar": {
              "outlinewidth": 0,
              "ticks": ""
             }
            },
            "type": "scattercarpet"
           }
          ],
          "scattergeo": [
           {
            "marker": {
             "colorbar": {
              "outlinewidth": 0,
              "ticks": ""
             }
            },
            "type": "scattergeo"
           }
          ],
          "scattergl": [
           {
            "marker": {
             "line": {
              "color": "#283442"
             }
            },
            "type": "scattergl"
           }
          ],
          "scattermapbox": [
           {
            "marker": {
             "colorbar": {
              "outlinewidth": 0,
              "ticks": ""
             }
            },
            "type": "scattermapbox"
           }
          ],
          "scatterpolar": [
           {
            "marker": {
             "colorbar": {
              "outlinewidth": 0,
              "ticks": ""
             }
            },
            "type": "scatterpolar"
           }
          ],
          "scatterpolargl": [
           {
            "marker": {
             "colorbar": {
              "outlinewidth": 0,
              "ticks": ""
             }
            },
            "type": "scatterpolargl"
           }
          ],
          "scatterternary": [
           {
            "marker": {
             "colorbar": {
              "outlinewidth": 0,
              "ticks": ""
             }
            },
            "type": "scatterternary"
           }
          ],
          "surface": [
           {
            "colorbar": {
             "outlinewidth": 0,
             "ticks": ""
            },
            "colorscale": [
             [
              0,
              "#0d0887"
             ],
             [
              0.1111111111111111,
              "#46039f"
             ],
             [
              0.2222222222222222,
              "#7201a8"
             ],
             [
              0.3333333333333333,
              "#9c179e"
             ],
             [
              0.4444444444444444,
              "#bd3786"
             ],
             [
              0.5555555555555556,
              "#d8576b"
             ],
             [
              0.6666666666666666,
              "#ed7953"
             ],
             [
              0.7777777777777778,
              "#fb9f3a"
             ],
             [
              0.8888888888888888,
              "#fdca26"
             ],
             [
              1,
              "#f0f921"
             ]
            ],
            "type": "surface"
           }
          ],
          "table": [
           {
            "cells": {
             "fill": {
              "color": "#506784"
             },
             "line": {
              "color": "rgb(17,17,17)"
             }
            },
            "header": {
             "fill": {
              "color": "#2a3f5f"
             },
             "line": {
              "color": "rgb(17,17,17)"
             }
            },
            "type": "table"
           }
          ]
         },
         "layout": {
          "annotationdefaults": {
           "arrowcolor": "#f2f5fa",
           "arrowhead": 0,
           "arrowwidth": 1
          },
          "autotypenumbers": "strict",
          "coloraxis": {
           "colorbar": {
            "outlinewidth": 0,
            "ticks": ""
           }
          },
          "colorscale": {
           "diverging": [
            [
             0,
             "#8e0152"
            ],
            [
             0.1,
             "#c51b7d"
            ],
            [
             0.2,
             "#de77ae"
            ],
            [
             0.3,
             "#f1b6da"
            ],
            [
             0.4,
             "#fde0ef"
            ],
            [
             0.5,
             "#f7f7f7"
            ],
            [
             0.6,
             "#e6f5d0"
            ],
            [
             0.7,
             "#b8e186"
            ],
            [
             0.8,
             "#7fbc41"
            ],
            [
             0.9,
             "#4d9221"
            ],
            [
             1,
             "#276419"
            ]
           ],
           "sequential": [
            [
             0,
             "#0d0887"
            ],
            [
             0.1111111111111111,
             "#46039f"
            ],
            [
             0.2222222222222222,
             "#7201a8"
            ],
            [
             0.3333333333333333,
             "#9c179e"
            ],
            [
             0.4444444444444444,
             "#bd3786"
            ],
            [
             0.5555555555555556,
             "#d8576b"
            ],
            [
             0.6666666666666666,
             "#ed7953"
            ],
            [
             0.7777777777777778,
             "#fb9f3a"
            ],
            [
             0.8888888888888888,
             "#fdca26"
            ],
            [
             1,
             "#f0f921"
            ]
           ],
           "sequentialminus": [
            [
             0,
             "#0d0887"
            ],
            [
             0.1111111111111111,
             "#46039f"
            ],
            [
             0.2222222222222222,
             "#7201a8"
            ],
            [
             0.3333333333333333,
             "#9c179e"
            ],
            [
             0.4444444444444444,
             "#bd3786"
            ],
            [
             0.5555555555555556,
             "#d8576b"
            ],
            [
             0.6666666666666666,
             "#ed7953"
            ],
            [
             0.7777777777777778,
             "#fb9f3a"
            ],
            [
             0.8888888888888888,
             "#fdca26"
            ],
            [
             1,
             "#f0f921"
            ]
           ]
          },
          "colorway": [
           "#636efa",
           "#EF553B",
           "#00cc96",
           "#ab63fa",
           "#FFA15A",
           "#19d3f3",
           "#FF6692",
           "#B6E880",
           "#FF97FF",
           "#FECB52"
          ],
          "font": {
           "color": "#f2f5fa"
          },
          "geo": {
           "bgcolor": "rgb(17,17,17)",
           "lakecolor": "rgb(17,17,17)",
           "landcolor": "rgb(17,17,17)",
           "showlakes": true,
           "showland": true,
           "subunitcolor": "#506784"
          },
          "hoverlabel": {
           "align": "left"
          },
          "hovermode": "closest",
          "mapbox": {
           "style": "dark"
          },
          "paper_bgcolor": "rgb(17,17,17)",
          "plot_bgcolor": "rgb(17,17,17)",
          "polar": {
           "angularaxis": {
            "gridcolor": "#506784",
            "linecolor": "#506784",
            "ticks": ""
           },
           "bgcolor": "rgb(17,17,17)",
           "radialaxis": {
            "gridcolor": "#506784",
            "linecolor": "#506784",
            "ticks": ""
           }
          },
          "scene": {
           "xaxis": {
            "backgroundcolor": "rgb(17,17,17)",
            "gridcolor": "#506784",
            "gridwidth": 2,
            "linecolor": "#506784",
            "showbackground": true,
            "ticks": "",
            "zerolinecolor": "#C8D4E3"
           },
           "yaxis": {
            "backgroundcolor": "rgb(17,17,17)",
            "gridcolor": "#506784",
            "gridwidth": 2,
            "linecolor": "#506784",
            "showbackground": true,
            "ticks": "",
            "zerolinecolor": "#C8D4E3"
           },
           "zaxis": {
            "backgroundcolor": "rgb(17,17,17)",
            "gridcolor": "#506784",
            "gridwidth": 2,
            "linecolor": "#506784",
            "showbackground": true,
            "ticks": "",
            "zerolinecolor": "#C8D4E3"
           }
          },
          "shapedefaults": {
           "line": {
            "color": "#f2f5fa"
           }
          },
          "sliderdefaults": {
           "bgcolor": "#C8D4E3",
           "bordercolor": "rgb(17,17,17)",
           "borderwidth": 1,
           "tickwidth": 0
          },
          "ternary": {
           "aaxis": {
            "gridcolor": "#506784",
            "linecolor": "#506784",
            "ticks": ""
           },
           "baxis": {
            "gridcolor": "#506784",
            "linecolor": "#506784",
            "ticks": ""
           },
           "bgcolor": "rgb(17,17,17)",
           "caxis": {
            "gridcolor": "#506784",
            "linecolor": "#506784",
            "ticks": ""
           }
          },
          "title": {
           "x": 0.05
          },
          "updatemenudefaults": {
           "bgcolor": "#506784",
           "borderwidth": 0
          },
          "xaxis": {
           "automargin": true,
           "gridcolor": "#283442",
           "linecolor": "#506784",
           "ticks": "",
           "title": {
            "standoff": 15
           },
           "zerolinecolor": "#283442",
           "zerolinewidth": 2
          },
          "yaxis": {
           "automargin": true,
           "gridcolor": "#283442",
           "linecolor": "#506784",
           "ticks": "",
           "title": {
            "standoff": 15
           },
           "zerolinecolor": "#283442",
           "zerolinewidth": 2
          }
         }
        },
        "title": {
         "text": "Body type distribution"
        },
        "treemapcolorway": [
         "rgb(255,247,251)",
         "rgb(236,226,240)",
         "rgb(208,209,230)",
         "rgb(166,189,219)",
         "rgb(103,169,207)",
         "rgb(54,144,192)",
         "rgb(2,129,138)",
         "rgb(1,108,89)",
         "rgb(1,70,54)"
        ],
        "width": 1000
       }
      }
     },
     "metadata": {},
     "output_type": "display_data"
    }
   ],
   "source": [
    "age_df=cupid_df['age'].value_counts()\n",
    "fig=px.treemap(age_df,\n",
    "               path=[age_df.index],\n",
    "               values=age_df.values,\n",
    "               title=\"Age distribution\",\n",
    "               color=age_df.index,\n",
    "               color_discrete_sequence=px.colors.sequential.PuBuGn,\n",
    "               template='plotly_dark',\n",
    "               width=1000, height=500\n",
    "              )\n",
    "\n",
    "percents = np.round((100*age_df.values / sum(age_df.values)).tolist(),2)\n",
    "fig.data[0].customdata = percents\n",
    "fig.data[0].texttemplate = '%{label}<br>%{value}<br>%{customdata}%'\n",
    "fig.update_layout(font=dict(size=19,family=\"Franklin Gothic\"))\n",
    "fig.show()"
   ]
  },
  {
   "cell_type": "code",
   "execution_count": 81,
   "metadata": {},
   "outputs": [
    {
     "data": {
      "text/html": [
       "<div>\n",
       "<style scoped>\n",
       "    .dataframe tbody tr th:only-of-type {\n",
       "        vertical-align: middle;\n",
       "    }\n",
       "\n",
       "    .dataframe tbody tr th {\n",
       "        vertical-align: top;\n",
       "    }\n",
       "\n",
       "    .dataframe thead th {\n",
       "        text-align: right;\n",
       "    }\n",
       "</style>\n",
       "<table border=\"1\" class=\"dataframe\">\n",
       "  <thead>\n",
       "    <tr style=\"text-align: right;\">\n",
       "      <th></th>\n",
       "      <th>original</th>\n",
       "      <th>revised</th>\n",
       "    </tr>\n",
       "  </thead>\n",
       "  <tbody>\n",
       "    <tr>\n",
       "      <th>0</th>\n",
       "      <td>graduated from college/university</td>\n",
       "      <td>Associate's Degree</td>\n",
       "    </tr>\n",
       "    <tr>\n",
       "      <th>1</th>\n",
       "      <td>graduated from masters program</td>\n",
       "      <td>Master's Degree</td>\n",
       "    </tr>\n",
       "    <tr>\n",
       "      <th>2</th>\n",
       "      <td>working on college/university</td>\n",
       "      <td>Some College</td>\n",
       "    </tr>\n",
       "    <tr>\n",
       "      <th>3</th>\n",
       "      <td>working on masters program</td>\n",
       "      <td>Bachelor's Degree</td>\n",
       "    </tr>\n",
       "    <tr>\n",
       "      <th>4</th>\n",
       "      <td>graduated from two-year college</td>\n",
       "      <td>Associate's Degree</td>\n",
       "    </tr>\n",
       "    <tr>\n",
       "      <th>5</th>\n",
       "      <td>graduated from high school</td>\n",
       "      <td>High school</td>\n",
       "    </tr>\n",
       "    <tr>\n",
       "      <th>6</th>\n",
       "      <td>graduated from ph.d program</td>\n",
       "      <td>Doctorate Degree</td>\n",
       "    </tr>\n",
       "    <tr>\n",
       "      <th>7</th>\n",
       "      <td>graduated from law school</td>\n",
       "      <td>Law degree</td>\n",
       "    </tr>\n",
       "    <tr>\n",
       "      <th>8</th>\n",
       "      <td>working on two-year college</td>\n",
       "      <td>Some College</td>\n",
       "    </tr>\n",
       "    <tr>\n",
       "      <th>9</th>\n",
       "      <td>dropped out of college/university</td>\n",
       "      <td>Some College</td>\n",
       "    </tr>\n",
       "    <tr>\n",
       "      <th>10</th>\n",
       "      <td>working on ph.d program</td>\n",
       "      <td>Master's Degree</td>\n",
       "    </tr>\n",
       "    <tr>\n",
       "      <th>11</th>\n",
       "      <td>college/university</td>\n",
       "      <td>Associate's Degree</td>\n",
       "    </tr>\n",
       "    <tr>\n",
       "      <th>12</th>\n",
       "      <td>graduated from space camp</td>\n",
       "      <td>Space Camp</td>\n",
       "    </tr>\n",
       "    <tr>\n",
       "      <th>13</th>\n",
       "      <td>dropped out of space camp</td>\n",
       "      <td>Some Education</td>\n",
       "    </tr>\n",
       "    <tr>\n",
       "      <th>14</th>\n",
       "      <td>graduated from med school</td>\n",
       "      <td>Medical Degree</td>\n",
       "    </tr>\n",
       "    <tr>\n",
       "      <th>15</th>\n",
       "      <td>working on space camp</td>\n",
       "      <td>Some Education</td>\n",
       "    </tr>\n",
       "    <tr>\n",
       "      <th>16</th>\n",
       "      <td>working on law school</td>\n",
       "      <td>Bachelor's Degree</td>\n",
       "    </tr>\n",
       "    <tr>\n",
       "      <th>17</th>\n",
       "      <td>two-year college</td>\n",
       "      <td>Associate's Degree</td>\n",
       "    </tr>\n",
       "    <tr>\n",
       "      <th>18</th>\n",
       "      <td>working on med school</td>\n",
       "      <td>Bachelor's Degree</td>\n",
       "    </tr>\n",
       "    <tr>\n",
       "      <th>19</th>\n",
       "      <td>dropped out of two-year college</td>\n",
       "      <td>Some College</td>\n",
       "    </tr>\n",
       "    <tr>\n",
       "      <th>20</th>\n",
       "      <td>dropped out of masters program</td>\n",
       "      <td>Bachelor's Degree</td>\n",
       "    </tr>\n",
       "    <tr>\n",
       "      <th>21</th>\n",
       "      <td>masters program</td>\n",
       "      <td>Master's Degree</td>\n",
       "    </tr>\n",
       "    <tr>\n",
       "      <th>22</th>\n",
       "      <td>dropped out of ph.d program</td>\n",
       "      <td>Master's Degree</td>\n",
       "    </tr>\n",
       "    <tr>\n",
       "      <th>23</th>\n",
       "      <td>dropped out of high school</td>\n",
       "      <td>Some High school</td>\n",
       "    </tr>\n",
       "    <tr>\n",
       "      <th>24</th>\n",
       "      <td>high school</td>\n",
       "      <td>High school</td>\n",
       "    </tr>\n",
       "    <tr>\n",
       "      <th>25</th>\n",
       "      <td>working on high school</td>\n",
       "      <td>Some High school</td>\n",
       "    </tr>\n",
       "    <tr>\n",
       "      <th>26</th>\n",
       "      <td>space camp</td>\n",
       "      <td>Space Camp</td>\n",
       "    </tr>\n",
       "    <tr>\n",
       "      <th>27</th>\n",
       "      <td>ph.d program</td>\n",
       "      <td>Doctorate Degree</td>\n",
       "    </tr>\n",
       "    <tr>\n",
       "      <th>28</th>\n",
       "      <td>law school</td>\n",
       "      <td>Law degree</td>\n",
       "    </tr>\n",
       "    <tr>\n",
       "      <th>29</th>\n",
       "      <td>dropped out of law school</td>\n",
       "      <td>Bachelor's Degree</td>\n",
       "    </tr>\n",
       "    <tr>\n",
       "      <th>30</th>\n",
       "      <td>dropped out of med school</td>\n",
       "      <td>Bachelor's Degree</td>\n",
       "    </tr>\n",
       "    <tr>\n",
       "      <th>31</th>\n",
       "      <td>med school</td>\n",
       "      <td>Medical Degree</td>\n",
       "    </tr>\n",
       "  </tbody>\n",
       "</table>\n",
       "</div>"
      ],
      "text/plain": [
       "                             original             revised\n",
       "0   graduated from college/university  Associate's Degree\n",
       "1      graduated from masters program     Master's Degree\n",
       "2       working on college/university        Some College\n",
       "3          working on masters program   Bachelor's Degree\n",
       "4     graduated from two-year college  Associate's Degree\n",
       "5          graduated from high school         High school\n",
       "6         graduated from ph.d program    Doctorate Degree\n",
       "7           graduated from law school          Law degree\n",
       "8         working on two-year college        Some College\n",
       "9   dropped out of college/university        Some College\n",
       "10            working on ph.d program     Master's Degree\n",
       "11                 college/university  Associate's Degree\n",
       "12          graduated from space camp          Space Camp\n",
       "13          dropped out of space camp      Some Education\n",
       "14          graduated from med school      Medical Degree\n",
       "15              working on space camp      Some Education\n",
       "16              working on law school   Bachelor's Degree\n",
       "17                   two-year college  Associate's Degree\n",
       "18              working on med school   Bachelor's Degree\n",
       "19    dropped out of two-year college        Some College\n",
       "20     dropped out of masters program   Bachelor's Degree\n",
       "21                    masters program     Master's Degree\n",
       "22        dropped out of ph.d program     Master's Degree\n",
       "23         dropped out of high school    Some High school\n",
       "24                        high school         High school\n",
       "25             working on high school    Some High school\n",
       "26                         space camp          Space Camp\n",
       "27                       ph.d program    Doctorate Degree\n",
       "28                         law school          Law degree\n",
       "29          dropped out of law school   Bachelor's Degree\n",
       "30          dropped out of med school   Bachelor's Degree\n",
       "31                         med school      Medical Degree"
      ]
     },
     "execution_count": 81,
     "metadata": {},
     "output_type": "execute_result"
    }
   ],
   "source": [
    "# Revised education column, using custom created csv \n",
    "# through self labeling using the most conservative judgement\n",
    "edu_cat_df = pd.read_csv(\"../data/education_category_revised.csv\")\n",
    "edu_cat_df"
   ]
  },
  {
   "cell_type": "code",
   "execution_count": 9,
   "metadata": {},
   "outputs": [],
   "source": [
    "# cupid_df.rename(columns = {\n",
    "#                         \"essay0\":\"My self summary\", \n",
    "#                         \"essay1\":\"What I’m doing with my life\",\n",
    "#                         \"essay2\":\"I’m really good at\",\n",
    "#                         \"essay3\":\"The first thing people usually notice about me\",\n",
    "#                         \"essay4\":\"Favorite books, movies, show, music, and food\",\n",
    "#                         \"essay5\":\"The six things I could never do without\",\n",
    "#                         \"essay6\":\"I spend a lot of time thinking about\",\n",
    "#                         \"essay7\":\"On a typical Friday night I am\",\n",
    "#                         \"essay8\":\"The most private thing I am willing to admit\",\n",
    "#                         \"essay9\":\"You should message me if\"})"
   ]
  },
  {
   "cell_type": "code",
   "execution_count": 10,
   "metadata": {},
   "outputs": [],
   "source": [
    "#Combining essays columns\n",
    "essays_df = cupid_df[['essay0','essay1','essay2','essay3','essay4','essay5','essay6','essay7','essay8','essay9']]"
   ]
  },
  {
   "cell_type": "code",
   "execution_count": 11,
   "metadata": {},
   "outputs": [],
   "source": [
    "#     print (f\"YOU'RE AT INDEX {index}\")\n",
    "#     for x in row:\n",
    "#         print(f\"--------{x}\")"
   ]
  }
 ],
 "metadata": {
  "kernelspec": {
   "display_name": "Python 3.9.12 ('base')",
   "language": "python",
   "name": "python3"
  },
  "language_info": {
   "codemirror_mode": {
    "name": "ipython",
    "version": 3
   },
   "file_extension": ".py",
   "mimetype": "text/x-python",
   "name": "python",
   "nbconvert_exporter": "python",
   "pygments_lexer": "ipython3",
   "version": "3.9.12"
  },
  "orig_nbformat": 4,
  "vscode": {
   "interpreter": {
    "hash": "40d3a090f54c6569ab1632332b64b2c03c39dcf918b08424e98f38b5ae0af88f"
   }
  }
 },
 "nbformat": 4,
 "nbformat_minor": 2
}
